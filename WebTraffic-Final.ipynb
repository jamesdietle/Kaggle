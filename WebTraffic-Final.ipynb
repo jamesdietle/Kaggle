{
 "cells": [
  {
   "cell_type": "markdown",
   "metadata": {},
   "source": [
    "## Web traffic\n",
    "Using the information from Jeremy Howards's data. https://www.youtube.com/watch?v=1-NYPQw5THU&feature=youtu.be"
   ]
  },
  {
   "cell_type": "code",
   "execution_count": 1,
   "metadata": {
    "collapsed": true
   },
   "outputs": [],
   "source": [
    "# How many rows should we have remaining\n",
    "# 0 means everyone\n",
    "tableNumMod= 0\n",
    "\n",
    "# How many columns should be here\n",
    "#Array size is 794 : 794 ran out of data\n",
    "#398 will half it\n",
    "#700 will bring it to 90 days\n",
    "#600 does not run out of memory unless submissions\n",
    "#500?\n",
    "tableColMod= 470\n",
    "\n",
    "# Are we filling the submission data?\n",
    "SubmissionRun = True\n",
    "\n",
    "# Saves Weights and loads as needed\n",
    "WantToSave=\"No\"\n",
    "WantToLoad=\"No\""
   ]
  },
  {
   "cell_type": "markdown",
   "metadata": {},
   "source": [
    "## Setup"
   ]
  },
  {
   "cell_type": "code",
   "execution_count": 2,
   "metadata": {
    "collapsed": true
   },
   "outputs": [],
   "source": [
    "#import notebook_util\n",
    "#notebook_util.setup_one_gpu()"
   ]
  },
  {
   "cell_type": "code",
   "execution_count": 3,
   "metadata": {},
   "outputs": [
    {
     "data": {
      "text/html": [
       "<style>audio{display:none}</style>"
      ],
      "text/plain": [
       "<IPython.core.display.HTML object>"
      ]
     },
     "metadata": {},
     "output_type": "display_data"
    }
   ],
   "source": [
    "# I like the dings! You can comment this out\n",
    "get_ipython().magic('load_ext cellevents')"
   ]
  },
  {
   "cell_type": "code",
   "execution_count": 4,
   "metadata": {},
   "outputs": [
    {
     "name": "stdout",
     "output_type": "stream",
     "text": [
      "time: 3.77 ms\n"
     ]
    }
   ],
   "source": [
    "## Import up sound alert dependencies\n",
    "from IPython.display import Audio, display\n",
    "\n",
    "def allDone():\n",
    "    #display(Audio(url='https://sound.peal.io/ps/audios/000/000/537/original/woo_vu_luvub_dub_dub.wav', autoplay=True))\n",
    "    display(Audio(url='http://starmen.net/mother2/soundfx/eb_win.wav', autoplay=True))\n",
    "    \n",
    "def RunningEpochs():\n",
    "    #display(Audio(url='https://sound.peal.io/ps/audios/000/000/537/original/woo_vu_luvub_dub_dub.wav', autoplay=True))\n",
    "    display(Audio(url='http://starmen.net/mother2/soundfx/enterbattle.wav', autoplay=True))\n",
    "## Insert whatever audio file you want above\n"
   ]
  },
  {
   "cell_type": "code",
   "execution_count": 5,
   "metadata": {},
   "outputs": [
    {
     "name": "stdout",
     "output_type": "stream",
     "text": [
      "time: 170 ms\n"
     ]
    }
   ],
   "source": [
    "%matplotlib inline"
   ]
  },
  {
   "cell_type": "code",
   "execution_count": 6,
   "metadata": {},
   "outputs": [
    {
     "name": "stderr",
     "output_type": "stream",
     "text": [
      "Using TensorFlow backend.\n",
      "/home/jd/anaconda3/lib/python3.5/site-packages/sklearn/cross_validation.py:44: DeprecationWarning: This module was deprecated in version 0.18 in favor of the model_selection module into which all the refactored classes and functions are moved. Also note that the interface of the new CV iterators are different from that of this module. This module will be removed in 0.20.\n",
      "  \"This module will be removed in 0.20.\", DeprecationWarning)\n"
     ]
    },
    {
     "name": "stdout",
     "output_type": "stream",
     "text": [
      "time: 2.26 s\n"
     ]
    }
   ],
   "source": [
    "# All of the dependencies\n",
    "import math, keras, datetime, pandas as pd, numpy as np, keras.backend as K\n",
    "import matplotlib.pyplot as plt, xgboost, operator, random, pickle\n",
    "import h5py\n",
    "from keras.models import load_model\n",
    "import pandas as pd\n",
    "from datetime import datetime\n",
    "import re\n",
    "from tensorflow.python.client import device_lib\n",
    "from utils2 import *\n",
    "# Breaks out dates into good data\n",
    "from isoweek import Week\n",
    "from pandas_summary import DataFrameSummary\n",
    "# Options determine the way floating point numbers, arrays and other NumPy objects are displayed\n",
    "np.set_printoptions(threshold=20, edgeitems=10)\n",
    "from IPython.display import HTML\n",
    "from datetime import datetime\n",
    "date = datetime.strptime(\"2015-07-01\", \"%Y-%m-%d\")  "
   ]
  },
  {
   "cell_type": "code",
   "execution_count": 7,
   "metadata": {},
   "outputs": [
    {
     "name": "stdout",
     "output_type": "stream",
     "text": [
      "time: 3.49 ms\n"
     ]
    }
   ],
   "source": [
    "# Limits the amount of GPU is used up\n",
    "#limit_mem()\n",
    "import tensorflow as tf"
   ]
  },
  {
   "cell_type": "code",
   "execution_count": 8,
   "metadata": {},
   "outputs": [
    {
     "name": "stdout",
     "output_type": "stream",
     "text": [
      "[name: \"/cpu:0\"\n",
      "device_type: \"CPU\"\n",
      "memory_limit: 268435456\n",
      "locality {\n",
      "}\n",
      "incarnation: 16938822025251334683\n",
      ", name: \"/gpu:0\"\n",
      "device_type: \"GPU\"\n",
      "memory_limit: 7938919629\n",
      "locality {\n",
      "  bus_id: 1\n",
      "}\n",
      "incarnation: 13473741503910362592\n",
      "physical_device_desc: \"device: 0, name: GeForce GTX 1080, pci bus id: 0000:01:00.0\"\n",
      ", name: \"/gpu:1\"\n",
      "device_type: \"GPU\"\n",
      "memory_limit: 7950188544\n",
      "locality {\n",
      "  bus_id: 1\n",
      "}\n",
      "incarnation: 5745575823229464886\n",
      "physical_device_desc: \"device: 1, name: GeForce GTX 1080, pci bus id: 0000:06:00.0\"\n",
      "]\n",
      "time: 292 ms\n"
     ]
    }
   ],
   "source": [
    "# lists out the GPUs\n",
    "print (device_lib.list_local_devices())"
   ]
  },
  {
   "cell_type": "code",
   "execution_count": 9,
   "metadata": {},
   "outputs": [
    {
     "name": "stdout",
     "output_type": "stream",
     "text": [
      "time: 592 µs\n"
     ]
    }
   ],
   "source": [
    "# Set up pathing\n",
    "path = '/home/jd/data/webTraffic/'"
   ]
  },
  {
   "cell_type": "markdown",
   "metadata": {},
   "source": [
    "### Functions"
   ]
  },
  {
   "cell_type": "code",
   "execution_count": 10,
   "metadata": {},
   "outputs": [
    {
     "name": "stdout",
     "output_type": "stream",
     "text": [
      "time: 3.8 ms\n"
     ]
    }
   ],
   "source": [
    "# Adding datepart\n",
    "# Used in data Cleaning\n",
    "def add_datepart(df):\n",
    "    df.Date = pd.to_datetime(df.Date)\n",
    "    df[\"Year\"] = df.Date.dt.year\n",
    "    df[\"Month\"] = df.Date.dt.month\n",
    "    df[\"Week\"] = df.Date.dt.week\n",
    "    df[\"Day\"] = df.Date.dt.day\n",
    "    df[\"DayOfWeek\"] = df.Date.dt.weekday"
   ]
  },
  {
   "cell_type": "code",
   "execution_count": 11,
   "metadata": {},
   "outputs": [
    {
     "name": "stdout",
     "output_type": "stream",
     "text": [
      "time: 6.43 ms\n"
     ]
    }
   ],
   "source": [
    "# this did not work as intended\n",
    "def add_pagebreak(df):\n",
    "    pd.options.mode.chained_assignment = None\n",
    "    df['frontname']= df['Page'].str.partition('.')[0]\n",
    "    df['name'] = df['frontname'].str.rpartition('_')[0]\n",
    "    df['locale'] = df['frontname'].str.rpartition('_')[2]\n",
    "    df['backname'] = df['Page'].str.partition('.')[2]\n",
    "    df['article'] = df['backname'].str.partition('_')[0]\n",
    "    df['access'] = df['backname'].str.partition('_')[2]\n",
    "    df['agent'] = df['backname'].str.rpartition('_')[2]"
   ]
  },
  {
   "cell_type": "code",
   "execution_count": 12,
   "metadata": {},
   "outputs": [
    {
     "name": "stdout",
     "output_type": "stream",
     "text": [
      "time: 1.95 ms\n"
     ]
    }
   ],
   "source": [
    "# Is used to merge the pandas together\n",
    "# Used in Data Cleaning\n",
    "def join_df(left, right, left_on, right_on=None):\n",
    "    if right_on is None: right_on = left_on\n",
    "    return left.merge(right, how='left', left_on=left_on, right_on=right_on, \n",
    "                      suffixes=(\"\", \"_y\"))"
   ]
  },
  {
   "cell_type": "code",
   "execution_count": 13,
   "metadata": {},
   "outputs": [
    {
     "name": "stdout",
     "output_type": "stream",
     "text": [
      "time: 6.39 ms\n"
     ]
    }
   ],
   "source": [
    "# Basic class\n",
    "class elapsed(object):\n",
    "    def __init__(self, fld):\n",
    "        self.fld = fld\n",
    "        self.last = pd.to_datetime(np.nan)\n",
    "        self.last_store = 0\n",
    "        \n",
    "    def get(self, row):\n",
    "        if row.Store != self.last_store:\n",
    "            self.last = pd.to_datetime(np.nan)\n",
    "            self.last_store = row.Store\n",
    "        if (row[self.fld]): self.last = row.Date\n",
    "        return row.Date-self.last"
   ]
  },
  {
   "cell_type": "code",
   "execution_count": 14,
   "metadata": {},
   "outputs": [
    {
     "name": "stdout",
     "output_type": "stream",
     "text": [
      "time: 1.97 ms\n"
     ]
    }
   ],
   "source": [
    "def add_elapsed(fld, prefix):\n",
    "    sh_el = elapsed(fld)\n",
    "    df[prefix+fld] = df.apply(sh_el.get, axis=1)"
   ]
  },
  {
   "cell_type": "code",
   "execution_count": 15,
   "metadata": {},
   "outputs": [
    {
     "name": "stdout",
     "output_type": "stream",
     "text": [
      "time: 6.5 ms\n"
     ]
    }
   ],
   "source": [
    "# Makes life very easy.. learn more about it\n",
    "from sklearn_pandas import DataFrameMapper\n",
    "from sklearn.preprocessing import LabelEncoder, Imputer, StandardScaler"
   ]
  },
  {
   "cell_type": "code",
   "execution_count": 16,
   "metadata": {},
   "outputs": [
    {
     "name": "stdout",
     "output_type": "stream",
     "text": [
      "time: 916 µs\n"
     ]
    }
   ],
   "source": [
    "#Used in validation\n",
    "def cat_preproc(dat):\n",
    "    return cat_map_fit.transform(dat).astype(np.int64)"
   ]
  },
  {
   "cell_type": "code",
   "execution_count": 17,
   "metadata": {},
   "outputs": [
    {
     "name": "stdout",
     "output_type": "stream",
     "text": [
      "time: 1.15 ms\n"
     ]
    }
   ],
   "source": [
    "#Used in validation\n",
    "def contin_preproc(dat):\n",
    "    return contin_map_fit.transform(dat).astype(np.float32)"
   ]
  },
  {
   "cell_type": "code",
   "execution_count": 18,
   "metadata": {},
   "outputs": [
    {
     "name": "stdout",
     "output_type": "stream",
     "text": [
      "time: 176 ms\n"
     ]
    }
   ],
   "source": [
    "# Will need to switch this out\n",
    "# Used in modeling\n",
    "from numba import jit\n",
    "import math\n",
    "\n",
    "def rmspe(y_pred, targ ):# target = y_valid_orig\n",
    "    pct_var = (targ - y_pred)/targ\n",
    "    return math.sqrt(np.square(pct_var).mean())"
   ]
  },
  {
   "cell_type": "code",
   "execution_count": 19,
   "metadata": {},
   "outputs": [
    {
     "name": "stdout",
     "output_type": "stream",
     "text": [
      "time: 1.04 ms\n"
     ]
    }
   ],
   "source": [
    "# Used at the end of models \n",
    "def log_max_inv(preds, mx ): #mx= max_log_y\n",
    "    return np.exp(preds * mx)"
   ]
  },
  {
   "cell_type": "code",
   "execution_count": 20,
   "metadata": {},
   "outputs": [
    {
     "name": "stdout",
     "output_type": "stream",
     "text": [
      "time: 926 µs\n"
     ]
    }
   ],
   "source": [
    "# Used at the end of models \n",
    "def normalize_inv(preds):\n",
    "    return preds * ystd + ymean"
   ]
  },
  {
   "cell_type": "code",
   "execution_count": 21,
   "metadata": {
    "scrolled": true
   },
   "outputs": [
    {
     "name": "stdout",
     "output_type": "stream",
     "text": [
      "time: 1.05 ms\n"
     ]
    }
   ],
   "source": [
    "# Used for making the models\n",
    "def split_cols(arr): return np.hsplit(arr,arr.shape[1])"
   ]
  },
  {
   "cell_type": "code",
   "execution_count": 22,
   "metadata": {},
   "outputs": [
    {
     "name": "stdout",
     "output_type": "stream",
     "text": [
      "time: 826 µs\n"
     ]
    }
   ],
   "source": [
    "# Used for making the models\n",
    "def cat_map_info(feat): return feat[0], len(feat[1].classes_)"
   ]
  },
  {
   "cell_type": "code",
   "execution_count": 23,
   "metadata": {},
   "outputs": [
    {
     "name": "stdout",
     "output_type": "stream",
     "text": [
      "time: 1.01 ms\n"
     ]
    }
   ],
   "source": [
    "# Used for making the models\n",
    "def my_init(scale):\n",
    "    return lambda shape, name=None: initializations.uniform(shape, scale=scale, name=name)"
   ]
  },
  {
   "cell_type": "code",
   "execution_count": 24,
   "metadata": {},
   "outputs": [
    {
     "name": "stdout",
     "output_type": "stream",
     "text": [
      "time: 1.33 ms\n"
     ]
    }
   ],
   "source": [
    "# Used for making the models\n",
    "def emb_init(shape, name=None): \n",
    "    return initializations.uniform(shape, scale=2/(shape[1]+1), name=name)"
   ]
  },
  {
   "cell_type": "code",
   "execution_count": 25,
   "metadata": {},
   "outputs": [
    {
     "name": "stdout",
     "output_type": "stream",
     "text": [
      "time: 2.01 ms\n"
     ]
    }
   ],
   "source": [
    "# Used for making the models\n",
    "def get_contin(feat):\n",
    "    name = feat[0][0]\n",
    "    inp = Input((1,), name=name+'_in')\n",
    "    return inp, Dense(1, name=name+'_d', init=my_init(1.))(inp)"
   ]
  },
  {
   "cell_type": "code",
   "execution_count": 26,
   "metadata": {},
   "outputs": [
    {
     "name": "stdout",
     "output_type": "stream",
     "text": [
      "time: 6.31 ms\n"
     ]
    }
   ],
   "source": [
    "# Used for making the models\n",
    "def get_emb(feat):\n",
    "    name, c = cat_map_info(feat)\n",
    "    #c2 = cat_var_dict[name]\n",
    "    c2 = (c+1)//2\n",
    "    if c2>50: c2=50\n",
    "    inp = Input((1,), dtype='int64', name=name+'_in')\n",
    "    # , W_regularizer=l2(1e-6)\n",
    "    u = Flatten(name=name+'_flt')(Embedding(c, c2, input_length=1, init=emb_init)(inp))\n",
    "#     u = Flatten(name=name+'_flt')(Embedding(c, c2, input_length=1)(inp))\n",
    "    return inp,u"
   ]
  },
  {
   "cell_type": "markdown",
   "metadata": {},
   "source": [
    "## Load Data Tables"
   ]
  },
  {
   "cell_type": "code",
   "execution_count": 27,
   "metadata": {},
   "outputs": [
    {
     "name": "stdout",
     "output_type": "stream",
     "text": [
      "time: 25.1 s\n"
     ]
    }
   ],
   "source": [
    "# Pulls in the data\n",
    "joined = pd.read_csv(path+'train_2'+'.csv', low_memory=False)"
   ]
  },
  {
   "cell_type": "code",
   "execution_count": 28,
   "metadata": {},
   "outputs": [
    {
     "data": {
      "text/plain": [
       "145063"
      ]
     },
     "execution_count": 28,
     "metadata": {},
     "output_type": "execute_result"
    },
    {
     "name": "stdout",
     "output_type": "stream",
     "text": [
      "time: 2.48 ms\n"
     ]
    }
   ],
   "source": [
    "#Checks it length is correct\n",
    "len(joined)"
   ]
  },
  {
   "cell_type": "code",
   "execution_count": 29,
   "metadata": {},
   "outputs": [
    {
     "data": {
      "text/html": [
       "<div>\n",
       "<table border=\"1\" class=\"dataframe\">\n",
       "  <thead>\n",
       "    <tr style=\"text-align: right;\">\n",
       "      <th></th>\n",
       "      <th>Page</th>\n",
       "      <th>2015-07-01</th>\n",
       "      <th>2015-07-02</th>\n",
       "      <th>2015-07-03</th>\n",
       "      <th>2015-07-04</th>\n",
       "      <th>2015-07-05</th>\n",
       "      <th>2015-07-06</th>\n",
       "      <th>2015-07-07</th>\n",
       "      <th>2015-07-08</th>\n",
       "      <th>2015-07-09</th>\n",
       "      <th>...</th>\n",
       "      <th>2017-09-01</th>\n",
       "      <th>2017-09-02</th>\n",
       "      <th>2017-09-03</th>\n",
       "      <th>2017-09-04</th>\n",
       "      <th>2017-09-05</th>\n",
       "      <th>2017-09-06</th>\n",
       "      <th>2017-09-07</th>\n",
       "      <th>2017-09-08</th>\n",
       "      <th>2017-09-09</th>\n",
       "      <th>2017-09-10</th>\n",
       "    </tr>\n",
       "  </thead>\n",
       "  <tbody>\n",
       "    <tr>\n",
       "      <th>0</th>\n",
       "      <td>2NE1_zh.wikipedia.org_all-access_spider</td>\n",
       "      <td>18.0</td>\n",
       "      <td>11.0</td>\n",
       "      <td>5.0</td>\n",
       "      <td>13.0</td>\n",
       "      <td>14.0</td>\n",
       "      <td>9.0</td>\n",
       "      <td>9.0</td>\n",
       "      <td>22.0</td>\n",
       "      <td>26.0</td>\n",
       "      <td>...</td>\n",
       "      <td>19.0</td>\n",
       "      <td>33.0</td>\n",
       "      <td>33.0</td>\n",
       "      <td>18.0</td>\n",
       "      <td>16.0</td>\n",
       "      <td>27.0</td>\n",
       "      <td>29.0</td>\n",
       "      <td>23.0</td>\n",
       "      <td>54.0</td>\n",
       "      <td>38.0</td>\n",
       "    </tr>\n",
       "    <tr>\n",
       "      <th>1</th>\n",
       "      <td>2PM_zh.wikipedia.org_all-access_spider</td>\n",
       "      <td>11.0</td>\n",
       "      <td>14.0</td>\n",
       "      <td>15.0</td>\n",
       "      <td>18.0</td>\n",
       "      <td>11.0</td>\n",
       "      <td>13.0</td>\n",
       "      <td>22.0</td>\n",
       "      <td>11.0</td>\n",
       "      <td>10.0</td>\n",
       "      <td>...</td>\n",
       "      <td>32.0</td>\n",
       "      <td>30.0</td>\n",
       "      <td>11.0</td>\n",
       "      <td>19.0</td>\n",
       "      <td>54.0</td>\n",
       "      <td>25.0</td>\n",
       "      <td>26.0</td>\n",
       "      <td>23.0</td>\n",
       "      <td>13.0</td>\n",
       "      <td>81.0</td>\n",
       "    </tr>\n",
       "  </tbody>\n",
       "</table>\n",
       "<p>2 rows × 804 columns</p>\n",
       "</div>"
      ],
      "text/plain": [
       "                                      Page  2015-07-01  2015-07-02  \\\n",
       "0  2NE1_zh.wikipedia.org_all-access_spider        18.0        11.0   \n",
       "1   2PM_zh.wikipedia.org_all-access_spider        11.0        14.0   \n",
       "\n",
       "   2015-07-03  2015-07-04  2015-07-05  2015-07-06  2015-07-07  2015-07-08  \\\n",
       "0         5.0        13.0        14.0         9.0         9.0        22.0   \n",
       "1        15.0        18.0        11.0        13.0        22.0        11.0   \n",
       "\n",
       "   2015-07-09     ...      2017-09-01  2017-09-02  2017-09-03  2017-09-04  \\\n",
       "0        26.0     ...            19.0        33.0        33.0        18.0   \n",
       "1        10.0     ...            32.0        30.0        11.0        19.0   \n",
       "\n",
       "   2017-09-05  2017-09-06  2017-09-07  2017-09-08  2017-09-09  2017-09-10  \n",
       "0        16.0        27.0        29.0        23.0        54.0        38.0  \n",
       "1        54.0        25.0        26.0        23.0        13.0        81.0  \n",
       "\n",
       "[2 rows x 804 columns]"
      ]
     },
     "metadata": {},
     "output_type": "display_data"
    },
    {
     "name": "stdout",
     "output_type": "stream",
     "text": [
      "time: 18.3 ms\n"
     ]
    }
   ],
   "source": [
    "#Shows the first bit\n",
    "display(joined.head(2))"
   ]
  },
  {
   "cell_type": "markdown",
   "metadata": {},
   "source": [
    "# Select the size of the array"
   ]
  },
  {
   "cell_type": "code",
   "execution_count": 30,
   "metadata": {},
   "outputs": [
    {
     "name": "stdout",
     "output_type": "stream",
     "text": [
      "time: 91.7 ms\n"
     ]
    }
   ],
   "source": [
    "# Modifies the joined rows and columns\n",
    "if (tableNumMod>0):\n",
    "    joined=joined[:tableNumMod]\n",
    "\n",
    "if (tableColMod>0):\n",
    "    joined=joined.drop(joined.columns[[range(1,(794-tableColMod),1)]], axis=1)"
   ]
  },
  {
   "cell_type": "code",
   "execution_count": 31,
   "metadata": {},
   "outputs": [
    {
     "name": "stdout",
     "output_type": "stream",
     "text": [
      "time: 395 ms\n"
     ]
    }
   ],
   "source": [
    "# Causes an exploding 0\n",
    "joined=joined.replace(0, .00000001)"
   ]
  },
  {
   "cell_type": "code",
   "execution_count": 32,
   "metadata": {},
   "outputs": [
    {
     "name": "stdout",
     "output_type": "stream",
     "text": [
      "time: 231 ms\n"
     ]
    }
   ],
   "source": [
    "# Its tough deciding to clip or not.\n",
    "#Needs clipping for smape\n",
    "joined=joined.fillna(1e-8)\n",
    "#tables=tables.fillna(0)"
   ]
  },
  {
   "cell_type": "code",
   "execution_count": 33,
   "metadata": {},
   "outputs": [
    {
     "name": "stdout",
     "output_type": "stream",
     "text": [
      "time: 3.08 s\n"
     ]
    }
   ],
   "source": [
    "# Breaks this into a more useable graph \n",
    "joined=pd.melt(joined, id_vars=\"Page\", var_name=\"Date\", value_name=\"Visits\")"
   ]
  },
  {
   "cell_type": "code",
   "execution_count": 34,
   "metadata": {},
   "outputs": [
    {
     "name": "stdout",
     "output_type": "stream",
     "text": [
      "time: 26.9 s\n"
     ]
    }
   ],
   "source": [
    "#Adds the dates on\n",
    "add_datepart(joined)"
   ]
  },
  {
   "cell_type": "code",
   "execution_count": 35,
   "metadata": {},
   "outputs": [
    {
     "name": "stdout",
     "output_type": "stream",
     "text": [
      "time: 253 ms\n"
     ]
    }
   ],
   "source": [
    "# Loads the indivators that are split out columns for the datea\n",
    "pagesplit = pd.read_csv(path+'betterdatacheck2'+'.csv', low_memory=False)\n",
    "pagesplit=pagesplit.drop('Unnamed: 0', axis=1)"
   ]
  },
  {
   "cell_type": "code",
   "execution_count": 36,
   "metadata": {},
   "outputs": [
    {
     "name": "stdout",
     "output_type": "stream",
     "text": [
      "time: 23.7 s\n"
     ]
    }
   ],
   "source": [
    "# merges it with Page\n",
    "joined=join_df(joined,pagesplit, \"Page\", \"Page\")"
   ]
  },
  {
   "cell_type": "code",
   "execution_count": 37,
   "metadata": {},
   "outputs": [
    {
     "name": "stdout",
     "output_type": "stream",
     "text": [
      "time: 558 µs\n"
     ]
    }
   ],
   "source": [
    "# Full set is not needed for 13 Mins; seems too long\n",
    "#tables.to_csv(path+'delete.csv')"
   ]
  },
  {
   "cell_type": "code",
   "execution_count": 38,
   "metadata": {},
   "outputs": [
    {
     "data": {
      "text/html": [
       "<div>\n",
       "<table border=\"1\" class=\"dataframe\">\n",
       "  <thead>\n",
       "    <tr style=\"text-align: right;\">\n",
       "      <th></th>\n",
       "      <th>Page</th>\n",
       "      <th>Date</th>\n",
       "      <th>Visits</th>\n",
       "      <th>Year</th>\n",
       "      <th>Month</th>\n",
       "      <th>Week</th>\n",
       "      <th>Day</th>\n",
       "      <th>DayOfWeek</th>\n",
       "      <th>name</th>\n",
       "      <th>locale</th>\n",
       "      <th>article</th>\n",
       "      <th>access</th>\n",
       "      <th>agent</th>\n",
       "    </tr>\n",
       "  </thead>\n",
       "  <tbody>\n",
       "    <tr>\n",
       "      <th>0</th>\n",
       "      <td>2NE1_zh.wikipedia.org_all-access_spider</td>\n",
       "      <td>2016-05-09</td>\n",
       "      <td>2.200000e+01</td>\n",
       "      <td>2016</td>\n",
       "      <td>5</td>\n",
       "      <td>19</td>\n",
       "      <td>9</td>\n",
       "      <td>0</td>\n",
       "      <td>2NE1</td>\n",
       "      <td>zh</td>\n",
       "      <td>wikipedia</td>\n",
       "      <td>all-access</td>\n",
       "      <td>spider</td>\n",
       "    </tr>\n",
       "    <tr>\n",
       "      <th>96717</th>\n",
       "      <td>Elemento_químico_es.wikipedia.org_mobile-web_a...</td>\n",
       "      <td>2016-05-09</td>\n",
       "      <td>2.031000e+03</td>\n",
       "      <td>2016</td>\n",
       "      <td>5</td>\n",
       "      <td>19</td>\n",
       "      <td>9</td>\n",
       "      <td>0</td>\n",
       "      <td>Elemento_químico</td>\n",
       "      <td>es</td>\n",
       "      <td>wikipedia</td>\n",
       "      <td>mobile-web</td>\n",
       "      <td>all-agents</td>\n",
       "    </tr>\n",
       "    <tr>\n",
       "      <th>96716</th>\n",
       "      <td>Paleolítico_es.wikipedia.org_mobile-web_all-ag...</td>\n",
       "      <td>2016-05-09</td>\n",
       "      <td>1.422000e+03</td>\n",
       "      <td>2016</td>\n",
       "      <td>5</td>\n",
       "      <td>19</td>\n",
       "      <td>9</td>\n",
       "      <td>0</td>\n",
       "      <td>Paleolítico</td>\n",
       "      <td>es</td>\n",
       "      <td>wikipedia</td>\n",
       "      <td>mobile-web</td>\n",
       "      <td>all-agents</td>\n",
       "    </tr>\n",
       "    <tr>\n",
       "      <th>96715</th>\n",
       "      <td>América_de_Cali_es.wikipedia.org_mobile-web_al...</td>\n",
       "      <td>2016-05-09</td>\n",
       "      <td>1.400000e+01</td>\n",
       "      <td>2016</td>\n",
       "      <td>5</td>\n",
       "      <td>19</td>\n",
       "      <td>9</td>\n",
       "      <td>0</td>\n",
       "      <td>América_de_Cali</td>\n",
       "      <td>es</td>\n",
       "      <td>wikipedia</td>\n",
       "      <td>mobile-web</td>\n",
       "      <td>all-agents</td>\n",
       "    </tr>\n",
       "    <tr>\n",
       "      <th>96714</th>\n",
       "      <td>Historia_del_fútbol_es.wikipedia.org_mobile-we...</td>\n",
       "      <td>2016-05-09</td>\n",
       "      <td>2.295000e+03</td>\n",
       "      <td>2016</td>\n",
       "      <td>5</td>\n",
       "      <td>19</td>\n",
       "      <td>9</td>\n",
       "      <td>0</td>\n",
       "      <td>Historia_del_fútbol</td>\n",
       "      <td>es</td>\n",
       "      <td>wikipedia</td>\n",
       "      <td>mobile-web</td>\n",
       "      <td>all-agents</td>\n",
       "    </tr>\n",
       "    <tr>\n",
       "      <th>96713</th>\n",
       "      <td>Ángel_Di_María_es.wikipedia.org_mobile-web_all...</td>\n",
       "      <td>2016-05-09</td>\n",
       "      <td>2.940000e+02</td>\n",
       "      <td>2016</td>\n",
       "      <td>5</td>\n",
       "      <td>19</td>\n",
       "      <td>9</td>\n",
       "      <td>0</td>\n",
       "      <td>Ángel_Di_María</td>\n",
       "      <td>es</td>\n",
       "      <td>wikipedia</td>\n",
       "      <td>mobile-web</td>\n",
       "      <td>all-agents</td>\n",
       "    </tr>\n",
       "    <tr>\n",
       "      <th>96712</th>\n",
       "      <td>Coordenadas_geográficas_es.wikipedia.org_mobil...</td>\n",
       "      <td>2016-05-09</td>\n",
       "      <td>1.527000e+03</td>\n",
       "      <td>2016</td>\n",
       "      <td>5</td>\n",
       "      <td>19</td>\n",
       "      <td>9</td>\n",
       "      <td>0</td>\n",
       "      <td>Coordenadas_geográficas</td>\n",
       "      <td>es</td>\n",
       "      <td>wikipedia</td>\n",
       "      <td>mobile-web</td>\n",
       "      <td>all-agents</td>\n",
       "    </tr>\n",
       "    <tr>\n",
       "      <th>96711</th>\n",
       "      <td>Rafael_Leónidas_Trujillo_es.wikipedia.org_mobi...</td>\n",
       "      <td>2016-05-09</td>\n",
       "      <td>1.672000e+03</td>\n",
       "      <td>2016</td>\n",
       "      <td>5</td>\n",
       "      <td>19</td>\n",
       "      <td>9</td>\n",
       "      <td>0</td>\n",
       "      <td>Rafael_Leónidas_Trujillo</td>\n",
       "      <td>es</td>\n",
       "      <td>wikipedia</td>\n",
       "      <td>mobile-web</td>\n",
       "      <td>all-agents</td>\n",
       "    </tr>\n",
       "    <tr>\n",
       "      <th>96710</th>\n",
       "      <td>Andrés_Iniesta_es.wikipedia.org_mobile-web_all...</td>\n",
       "      <td>2016-05-09</td>\n",
       "      <td>5.610000e+02</td>\n",
       "      <td>2016</td>\n",
       "      <td>5</td>\n",
       "      <td>19</td>\n",
       "      <td>9</td>\n",
       "      <td>0</td>\n",
       "      <td>Andrés_Iniesta</td>\n",
       "      <td>es</td>\n",
       "      <td>wikipedia</td>\n",
       "      <td>mobile-web</td>\n",
       "      <td>all-agents</td>\n",
       "    </tr>\n",
       "    <tr>\n",
       "      <th>96709</th>\n",
       "      <td>Tarzán_es.wikipedia.org_mobile-web_all-agents</td>\n",
       "      <td>2016-05-09</td>\n",
       "      <td>2.850000e+02</td>\n",
       "      <td>2016</td>\n",
       "      <td>5</td>\n",
       "      <td>19</td>\n",
       "      <td>9</td>\n",
       "      <td>0</td>\n",
       "      <td>Tarzán</td>\n",
       "      <td>es</td>\n",
       "      <td>wikipedia</td>\n",
       "      <td>mobile-web</td>\n",
       "      <td>all-agents</td>\n",
       "    </tr>\n",
       "    <tr>\n",
       "      <th>96708</th>\n",
       "      <td>Rodrigo_Díaz_de_Vivar_es.wikipedia.org_mobile-...</td>\n",
       "      <td>2016-05-09</td>\n",
       "      <td>9.830000e+02</td>\n",
       "      <td>2016</td>\n",
       "      <td>5</td>\n",
       "      <td>19</td>\n",
       "      <td>9</td>\n",
       "      <td>0</td>\n",
       "      <td>Rodrigo_Díaz_de_Vivar</td>\n",
       "      <td>es</td>\n",
       "      <td>wikipedia</td>\n",
       "      <td>mobile-web</td>\n",
       "      <td>all-agents</td>\n",
       "    </tr>\n",
       "    <tr>\n",
       "      <th>96707</th>\n",
       "      <td>Inquisición_es.wikipedia.org_mobile-web_all-ag...</td>\n",
       "      <td>2016-05-09</td>\n",
       "      <td>1.315000e+03</td>\n",
       "      <td>2016</td>\n",
       "      <td>5</td>\n",
       "      <td>19</td>\n",
       "      <td>9</td>\n",
       "      <td>0</td>\n",
       "      <td>Inquisición</td>\n",
       "      <td>es</td>\n",
       "      <td>wikipedia</td>\n",
       "      <td>mobile-web</td>\n",
       "      <td>all-agents</td>\n",
       "    </tr>\n",
       "    <tr>\n",
       "      <th>96706</th>\n",
       "      <td>Física_es.wikipedia.org_mobile-web_all-agents</td>\n",
       "      <td>2016-05-09</td>\n",
       "      <td>2.135000e+03</td>\n",
       "      <td>2016</td>\n",
       "      <td>5</td>\n",
       "      <td>19</td>\n",
       "      <td>9</td>\n",
       "      <td>0</td>\n",
       "      <td>Física</td>\n",
       "      <td>es</td>\n",
       "      <td>wikipedia</td>\n",
       "      <td>mobile-web</td>\n",
       "      <td>all-agents</td>\n",
       "    </tr>\n",
       "    <tr>\n",
       "      <th>96705</th>\n",
       "      <td>América_Central_es.wikipedia.org_mobile-web_al...</td>\n",
       "      <td>2016-05-09</td>\n",
       "      <td>1.692000e+03</td>\n",
       "      <td>2016</td>\n",
       "      <td>5</td>\n",
       "      <td>19</td>\n",
       "      <td>9</td>\n",
       "      <td>0</td>\n",
       "      <td>América_Central</td>\n",
       "      <td>es</td>\n",
       "      <td>wikipedia</td>\n",
       "      <td>mobile-web</td>\n",
       "      <td>all-agents</td>\n",
       "    </tr>\n",
       "    <tr>\n",
       "      <th>96704</th>\n",
       "      <td>Río_de_Janeiro_es.wikipedia.org_mobile-web_all...</td>\n",
       "      <td>2016-05-09</td>\n",
       "      <td>4.710000e+02</td>\n",
       "      <td>2016</td>\n",
       "      <td>5</td>\n",
       "      <td>19</td>\n",
       "      <td>9</td>\n",
       "      <td>0</td>\n",
       "      <td>Río_de_Janeiro</td>\n",
       "      <td>es</td>\n",
       "      <td>wikipedia</td>\n",
       "      <td>mobile-web</td>\n",
       "      <td>all-agents</td>\n",
       "    </tr>\n",
       "    <tr>\n",
       "      <th>96703</th>\n",
       "      <td>Ben-Hur_(película_de_2016)_es.wikipedia.org_mo...</td>\n",
       "      <td>2016-05-09</td>\n",
       "      <td>4.900000e+01</td>\n",
       "      <td>2016</td>\n",
       "      <td>5</td>\n",
       "      <td>19</td>\n",
       "      <td>9</td>\n",
       "      <td>0</td>\n",
       "      <td>Ben-Hur_(película_de_2016)</td>\n",
       "      <td>es</td>\n",
       "      <td>wikipedia</td>\n",
       "      <td>mobile-web</td>\n",
       "      <td>all-agents</td>\n",
       "    </tr>\n",
       "    <tr>\n",
       "      <th>96702</th>\n",
       "      <td>Éver_Banega_es.wikipedia.org_mobile-web_all-ag...</td>\n",
       "      <td>2016-05-09</td>\n",
       "      <td>1.150000e+02</td>\n",
       "      <td>2016</td>\n",
       "      <td>5</td>\n",
       "      <td>19</td>\n",
       "      <td>9</td>\n",
       "      <td>0</td>\n",
       "      <td>Éver_Banega</td>\n",
       "      <td>es</td>\n",
       "      <td>wikipedia</td>\n",
       "      <td>mobile-web</td>\n",
       "      <td>all-agents</td>\n",
       "    </tr>\n",
       "    <tr>\n",
       "      <th>96701</th>\n",
       "      <td>Salto_con_pértiga_es.wikipedia.org_mobile-web_...</td>\n",
       "      <td>2016-05-09</td>\n",
       "      <td>2.780000e+02</td>\n",
       "      <td>2016</td>\n",
       "      <td>5</td>\n",
       "      <td>19</td>\n",
       "      <td>9</td>\n",
       "      <td>0</td>\n",
       "      <td>Salto_con_pértiga</td>\n",
       "      <td>es</td>\n",
       "      <td>wikipedia</td>\n",
       "      <td>mobile-web</td>\n",
       "      <td>all-agents</td>\n",
       "    </tr>\n",
       "    <tr>\n",
       "      <th>96687</th>\n",
       "      <td>Educación_es.wikipedia.org_mobile-web_all-agents</td>\n",
       "      <td>2016-05-09</td>\n",
       "      <td>1.619000e+03</td>\n",
       "      <td>2016</td>\n",
       "      <td>5</td>\n",
       "      <td>19</td>\n",
       "      <td>9</td>\n",
       "      <td>0</td>\n",
       "      <td>Educación</td>\n",
       "      <td>es</td>\n",
       "      <td>wikipedia</td>\n",
       "      <td>mobile-web</td>\n",
       "      <td>all-agents</td>\n",
       "    </tr>\n",
       "    <tr>\n",
       "      <th>96688</th>\n",
       "      <td>Filosofía_es.wikipedia.org_mobile-web_all-agents</td>\n",
       "      <td>2016-05-09</td>\n",
       "      <td>3.349000e+03</td>\n",
       "      <td>2016</td>\n",
       "      <td>5</td>\n",
       "      <td>19</td>\n",
       "      <td>9</td>\n",
       "      <td>0</td>\n",
       "      <td>Filosofía</td>\n",
       "      <td>es</td>\n",
       "      <td>wikipedia</td>\n",
       "      <td>mobile-web</td>\n",
       "      <td>all-agents</td>\n",
       "    </tr>\n",
       "    <tr>\n",
       "      <th>96689</th>\n",
       "      <td>América_es.wikipedia.org_mobile-web_all-agents</td>\n",
       "      <td>2016-05-09</td>\n",
       "      <td>2.374000e+03</td>\n",
       "      <td>2016</td>\n",
       "      <td>5</td>\n",
       "      <td>19</td>\n",
       "      <td>9</td>\n",
       "      <td>0</td>\n",
       "      <td>América</td>\n",
       "      <td>es</td>\n",
       "      <td>wikipedia</td>\n",
       "      <td>mobile-web</td>\n",
       "      <td>all-agents</td>\n",
       "    </tr>\n",
       "    <tr>\n",
       "      <th>96690</th>\n",
       "      <td>Andrés_Bello_es.wikipedia.org_mobile-web_all-a...</td>\n",
       "      <td>2016-05-09</td>\n",
       "      <td>4.760000e+02</td>\n",
       "      <td>2016</td>\n",
       "      <td>5</td>\n",
       "      <td>19</td>\n",
       "      <td>9</td>\n",
       "      <td>0</td>\n",
       "      <td>Andrés_Bello</td>\n",
       "      <td>es</td>\n",
       "      <td>wikipedia</td>\n",
       "      <td>mobile-web</td>\n",
       "      <td>all-agents</td>\n",
       "    </tr>\n",
       "    <tr>\n",
       "      <th>96691</th>\n",
       "      <td>Ramsés_II_es.wikipedia.org_mobile-web_all-agents</td>\n",
       "      <td>2016-05-09</td>\n",
       "      <td>1.833000e+03</td>\n",
       "      <td>2016</td>\n",
       "      <td>5</td>\n",
       "      <td>19</td>\n",
       "      <td>9</td>\n",
       "      <td>0</td>\n",
       "      <td>Ramsés_II</td>\n",
       "      <td>es</td>\n",
       "      <td>wikipedia</td>\n",
       "      <td>mobile-web</td>\n",
       "      <td>all-agents</td>\n",
       "    </tr>\n",
       "    <tr>\n",
       "      <th>96692</th>\n",
       "      <td>Día_del_Veterano_y_de_los_Caídos_en_la_Guerra_...</td>\n",
       "      <td>2016-05-09</td>\n",
       "      <td>2.050000e+02</td>\n",
       "      <td>2016</td>\n",
       "      <td>5</td>\n",
       "      <td>19</td>\n",
       "      <td>9</td>\n",
       "      <td>0</td>\n",
       "      <td>Día_del_Veterano_y_de_los_Caídos_en_la_Guerra_...</td>\n",
       "      <td>es</td>\n",
       "      <td>wikipedia</td>\n",
       "      <td>mobile-web</td>\n",
       "      <td>all-agents</td>\n",
       "    </tr>\n",
       "    <tr>\n",
       "      <th>96718</th>\n",
       "      <td>Declaración_de_los_Derechos_del_Hombre_y_del_C...</td>\n",
       "      <td>2016-05-09</td>\n",
       "      <td>9.890000e+02</td>\n",
       "      <td>2016</td>\n",
       "      <td>5</td>\n",
       "      <td>19</td>\n",
       "      <td>9</td>\n",
       "      <td>0</td>\n",
       "      <td>Declaración_de_los_Derechos_del_Hombre_y_del_C...</td>\n",
       "      <td>es</td>\n",
       "      <td>wikipedia</td>\n",
       "      <td>mobile-web</td>\n",
       "      <td>all-agents</td>\n",
       "    </tr>\n",
       "    <tr>\n",
       "      <th>96693</th>\n",
       "      <td>María_Antonieta_de_las_Nieves_es.wikipedia.org...</td>\n",
       "      <td>2016-05-09</td>\n",
       "      <td>7.230000e+02</td>\n",
       "      <td>2016</td>\n",
       "      <td>5</td>\n",
       "      <td>19</td>\n",
       "      <td>9</td>\n",
       "      <td>0</td>\n",
       "      <td>María_Antonieta_de_las_Nieves</td>\n",
       "      <td>es</td>\n",
       "      <td>wikipedia</td>\n",
       "      <td>mobile-web</td>\n",
       "      <td>all-agents</td>\n",
       "    </tr>\n",
       "    <tr>\n",
       "      <th>96695</th>\n",
       "      <td>Geografía_de_México_es.wikipedia.org_mobile-we...</td>\n",
       "      <td>2016-05-09</td>\n",
       "      <td>2.500000e+02</td>\n",
       "      <td>2016</td>\n",
       "      <td>5</td>\n",
       "      <td>19</td>\n",
       "      <td>9</td>\n",
       "      <td>0</td>\n",
       "      <td>Geografía_de_México</td>\n",
       "      <td>es</td>\n",
       "      <td>wikipedia</td>\n",
       "      <td>mobile-web</td>\n",
       "      <td>all-agents</td>\n",
       "    </tr>\n",
       "    <tr>\n",
       "      <th>96696</th>\n",
       "      <td>La_teoría_del_todo_es.wikipedia.org_mobile-web...</td>\n",
       "      <td>2016-05-09</td>\n",
       "      <td>4.840000e+02</td>\n",
       "      <td>2016</td>\n",
       "      <td>5</td>\n",
       "      <td>19</td>\n",
       "      <td>9</td>\n",
       "      <td>0</td>\n",
       "      <td>La_teoría_del_todo</td>\n",
       "      <td>es</td>\n",
       "      <td>wikipedia</td>\n",
       "      <td>mobile-web</td>\n",
       "      <td>all-agents</td>\n",
       "    </tr>\n",
       "    <tr>\n",
       "      <th>96697</th>\n",
       "      <td>Selección_femenina_de_voleibol_de_Argentina_es...</td>\n",
       "      <td>2016-05-09</td>\n",
       "      <td>6.300000e+01</td>\n",
       "      <td>2016</td>\n",
       "      <td>5</td>\n",
       "      <td>19</td>\n",
       "      <td>9</td>\n",
       "      <td>0</td>\n",
       "      <td>Selección_femenina_de_voleibol_de_Argentina</td>\n",
       "      <td>es</td>\n",
       "      <td>wikipedia</td>\n",
       "      <td>mobile-web</td>\n",
       "      <td>all-agents</td>\n",
       "    </tr>\n",
       "    <tr>\n",
       "      <th>96698</th>\n",
       "      <td>Nicolás_Copérnico_es.wikipedia.org_mobile-web_...</td>\n",
       "      <td>2016-05-09</td>\n",
       "      <td>1.688000e+03</td>\n",
       "      <td>2016</td>\n",
       "      <td>5</td>\n",
       "      <td>19</td>\n",
       "      <td>9</td>\n",
       "      <td>0</td>\n",
       "      <td>Nicolás_Copérnico</td>\n",
       "      <td>es</td>\n",
       "      <td>wikipedia</td>\n",
       "      <td>mobile-web</td>\n",
       "      <td>all-agents</td>\n",
       "    </tr>\n",
       "    <tr>\n",
       "      <th>...</th>\n",
       "      <td>...</td>\n",
       "      <td>...</td>\n",
       "      <td>...</td>\n",
       "      <td>...</td>\n",
       "      <td>...</td>\n",
       "      <td>...</td>\n",
       "      <td>...</td>\n",
       "      <td>...</td>\n",
       "      <td>...</td>\n",
       "      <td>...</td>\n",
       "      <td>...</td>\n",
       "      <td>...</td>\n",
       "      <td>...</td>\n",
       "    </tr>\n",
       "    <tr>\n",
       "      <th>70984173</th>\n",
       "      <td>The_Voice_of_Germany_de.wikipedia.org_all-acce...</td>\n",
       "      <td>2017-09-10</td>\n",
       "      <td>7.000000e+00</td>\n",
       "      <td>2017</td>\n",
       "      <td>9</td>\n",
       "      <td>36</td>\n",
       "      <td>10</td>\n",
       "      <td>6</td>\n",
       "      <td>The_Voice_of_Germany</td>\n",
       "      <td>de</td>\n",
       "      <td>wikipedia</td>\n",
       "      <td>all-access</td>\n",
       "      <td>spider</td>\n",
       "    </tr>\n",
       "    <tr>\n",
       "      <th>70984174</th>\n",
       "      <td>The_Walking_Dead_(Fernsehserie)/Staffel_5_de.w...</td>\n",
       "      <td>2017-09-10</td>\n",
       "      <td>1.000000e+00</td>\n",
       "      <td>2017</td>\n",
       "      <td>9</td>\n",
       "      <td>36</td>\n",
       "      <td>10</td>\n",
       "      <td>6</td>\n",
       "      <td>The_Walking_Dead_(Fernsehserie)/Staffel_5</td>\n",
       "      <td>de</td>\n",
       "      <td>wikipedia</td>\n",
       "      <td>all-access</td>\n",
       "      <td>spider</td>\n",
       "    </tr>\n",
       "    <tr>\n",
       "      <th>70984168</th>\n",
       "      <td>The_OA_de.wikipedia.org_all-access_spider</td>\n",
       "      <td>2017-09-10</td>\n",
       "      <td>5.000000e+00</td>\n",
       "      <td>2017</td>\n",
       "      <td>9</td>\n",
       "      <td>36</td>\n",
       "      <td>10</td>\n",
       "      <td>6</td>\n",
       "      <td>The_OA</td>\n",
       "      <td>de</td>\n",
       "      <td>wikipedia</td>\n",
       "      <td>all-access</td>\n",
       "      <td>spider</td>\n",
       "    </tr>\n",
       "    <tr>\n",
       "      <th>70984175</th>\n",
       "      <td>The_Walking_Dead_(Fernsehserie)/Staffel_6_de.w...</td>\n",
       "      <td>2017-09-10</td>\n",
       "      <td>5.000000e+00</td>\n",
       "      <td>2017</td>\n",
       "      <td>9</td>\n",
       "      <td>36</td>\n",
       "      <td>10</td>\n",
       "      <td>6</td>\n",
       "      <td>The_Walking_Dead_(Fernsehserie)/Staffel_6</td>\n",
       "      <td>de</td>\n",
       "      <td>wikipedia</td>\n",
       "      <td>all-access</td>\n",
       "      <td>spider</td>\n",
       "    </tr>\n",
       "    <tr>\n",
       "      <th>70984177</th>\n",
       "      <td>Theo_James_de.wikipedia.org_all-access_spider</td>\n",
       "      <td>2017-09-10</td>\n",
       "      <td>2.000000e+00</td>\n",
       "      <td>2017</td>\n",
       "      <td>9</td>\n",
       "      <td>36</td>\n",
       "      <td>10</td>\n",
       "      <td>6</td>\n",
       "      <td>Theo_James</td>\n",
       "      <td>de</td>\n",
       "      <td>wikipedia</td>\n",
       "      <td>all-access</td>\n",
       "      <td>spider</td>\n",
       "    </tr>\n",
       "    <tr>\n",
       "      <th>70984178</th>\n",
       "      <td>Theresa_May_de.wikipedia.org_all-access_spider</td>\n",
       "      <td>2017-09-10</td>\n",
       "      <td>3.000000e+00</td>\n",
       "      <td>2017</td>\n",
       "      <td>9</td>\n",
       "      <td>36</td>\n",
       "      <td>10</td>\n",
       "      <td>6</td>\n",
       "      <td>Theresa_May</td>\n",
       "      <td>de</td>\n",
       "      <td>wikipedia</td>\n",
       "      <td>all-access</td>\n",
       "      <td>spider</td>\n",
       "    </tr>\n",
       "    <tr>\n",
       "      <th>70984179</th>\n",
       "      <td>Thiel_und_Boerne_de.wikipedia.org_all-access_s...</td>\n",
       "      <td>2017-09-10</td>\n",
       "      <td>7.000000e+00</td>\n",
       "      <td>2017</td>\n",
       "      <td>9</td>\n",
       "      <td>36</td>\n",
       "      <td>10</td>\n",
       "      <td>6</td>\n",
       "      <td>Thiel_und_Boerne</td>\n",
       "      <td>de</td>\n",
       "      <td>wikipedia</td>\n",
       "      <td>all-access</td>\n",
       "      <td>spider</td>\n",
       "    </tr>\n",
       "    <tr>\n",
       "      <th>70984180</th>\n",
       "      <td>Thomas_Bach_de.wikipedia.org_all-access_spider</td>\n",
       "      <td>2017-09-10</td>\n",
       "      <td>4.000000e+00</td>\n",
       "      <td>2017</td>\n",
       "      <td>9</td>\n",
       "      <td>36</td>\n",
       "      <td>10</td>\n",
       "      <td>6</td>\n",
       "      <td>Thomas_Bach</td>\n",
       "      <td>de</td>\n",
       "      <td>wikipedia</td>\n",
       "      <td>all-access</td>\n",
       "      <td>spider</td>\n",
       "    </tr>\n",
       "    <tr>\n",
       "      <th>70984181</th>\n",
       "      <td>Thomas_Cromwell,_1._Earl_of_Essex_de.wikipedia...</td>\n",
       "      <td>2017-09-10</td>\n",
       "      <td>3.000000e+00</td>\n",
       "      <td>2017</td>\n",
       "      <td>9</td>\n",
       "      <td>36</td>\n",
       "      <td>10</td>\n",
       "      <td>6</td>\n",
       "      <td>Thomas_Cromwell,_1._Earl_of_Essex</td>\n",
       "      <td>de</td>\n",
       "      <td>wikipedia</td>\n",
       "      <td>all-access</td>\n",
       "      <td>spider</td>\n",
       "    </tr>\n",
       "    <tr>\n",
       "      <th>70984182</th>\n",
       "      <td>Thomas_Hanreich_de.wikipedia.org_all-access_sp...</td>\n",
       "      <td>2017-09-10</td>\n",
       "      <td>1.000000e-08</td>\n",
       "      <td>2017</td>\n",
       "      <td>9</td>\n",
       "      <td>36</td>\n",
       "      <td>10</td>\n",
       "      <td>6</td>\n",
       "      <td>Thomas_Hanreich</td>\n",
       "      <td>de</td>\n",
       "      <td>wikipedia</td>\n",
       "      <td>all-access</td>\n",
       "      <td>spider</td>\n",
       "    </tr>\n",
       "    <tr>\n",
       "      <th>70984176</th>\n",
       "      <td>The_Walking_Dead_(Fernsehserie)/Staffel_7_de.w...</td>\n",
       "      <td>2017-09-10</td>\n",
       "      <td>6.000000e+00</td>\n",
       "      <td>2017</td>\n",
       "      <td>9</td>\n",
       "      <td>36</td>\n",
       "      <td>10</td>\n",
       "      <td>6</td>\n",
       "      <td>The_Walking_Dead_(Fernsehserie)/Staffel_7</td>\n",
       "      <td>de</td>\n",
       "      <td>wikipedia</td>\n",
       "      <td>all-access</td>\n",
       "      <td>spider</td>\n",
       "    </tr>\n",
       "    <tr>\n",
       "      <th>70984184</th>\n",
       "      <td>Thomas_Hitzlsperger_de.wikipedia.org_all-acces...</td>\n",
       "      <td>2017-09-10</td>\n",
       "      <td>2.000000e+00</td>\n",
       "      <td>2017</td>\n",
       "      <td>9</td>\n",
       "      <td>36</td>\n",
       "      <td>10</td>\n",
       "      <td>6</td>\n",
       "      <td>Thomas_Hitzlsperger</td>\n",
       "      <td>de</td>\n",
       "      <td>wikipedia</td>\n",
       "      <td>all-access</td>\n",
       "      <td>spider</td>\n",
       "    </tr>\n",
       "    <tr>\n",
       "      <th>70984167</th>\n",
       "      <td>The_Night_Manager_de.wikipedia.org_all-access_...</td>\n",
       "      <td>2017-09-10</td>\n",
       "      <td>2.000000e+00</td>\n",
       "      <td>2017</td>\n",
       "      <td>9</td>\n",
       "      <td>36</td>\n",
       "      <td>10</td>\n",
       "      <td>6</td>\n",
       "      <td>The_Night_Manager</td>\n",
       "      <td>de</td>\n",
       "      <td>wikipedia</td>\n",
       "      <td>all-access</td>\n",
       "      <td>spider</td>\n",
       "    </tr>\n",
       "    <tr>\n",
       "      <th>70984165</th>\n",
       "      <td>The_Mentalist_de.wikipedia.org_all-access_spider</td>\n",
       "      <td>2017-09-10</td>\n",
       "      <td>7.000000e+00</td>\n",
       "      <td>2017</td>\n",
       "      <td>9</td>\n",
       "      <td>36</td>\n",
       "      <td>10</td>\n",
       "      <td>6</td>\n",
       "      <td>The_Mentalist</td>\n",
       "      <td>de</td>\n",
       "      <td>wikipedia</td>\n",
       "      <td>all-access</td>\n",
       "      <td>spider</td>\n",
       "    </tr>\n",
       "    <tr>\n",
       "      <th>70984151</th>\n",
       "      <td>The_Dark_Knight_de.wikipedia.org_all-access_sp...</td>\n",
       "      <td>2017-09-10</td>\n",
       "      <td>4.000000e+00</td>\n",
       "      <td>2017</td>\n",
       "      <td>9</td>\n",
       "      <td>36</td>\n",
       "      <td>10</td>\n",
       "      <td>6</td>\n",
       "      <td>The_Dark_Knight</td>\n",
       "      <td>de</td>\n",
       "      <td>wikipedia</td>\n",
       "      <td>all-access</td>\n",
       "      <td>spider</td>\n",
       "    </tr>\n",
       "    <tr>\n",
       "      <th>70984152</th>\n",
       "      <td>The_Dark_Knight_Rises_de.wikipedia.org_all-acc...</td>\n",
       "      <td>2017-09-10</td>\n",
       "      <td>4.000000e+00</td>\n",
       "      <td>2017</td>\n",
       "      <td>9</td>\n",
       "      <td>36</td>\n",
       "      <td>10</td>\n",
       "      <td>6</td>\n",
       "      <td>The_Dark_Knight_Rises</td>\n",
       "      <td>de</td>\n",
       "      <td>wikipedia</td>\n",
       "      <td>all-access</td>\n",
       "      <td>spider</td>\n",
       "    </tr>\n",
       "    <tr>\n",
       "      <th>70984153</th>\n",
       "      <td>The_Expanse_(Fernsehserie)_de.wikipedia.org_al...</td>\n",
       "      <td>2017-09-10</td>\n",
       "      <td>2.600000e+01</td>\n",
       "      <td>2017</td>\n",
       "      <td>9</td>\n",
       "      <td>36</td>\n",
       "      <td>10</td>\n",
       "      <td>6</td>\n",
       "      <td>The_Expanse_(Fernsehserie)</td>\n",
       "      <td>de</td>\n",
       "      <td>wikipedia</td>\n",
       "      <td>all-access</td>\n",
       "      <td>spider</td>\n",
       "    </tr>\n",
       "    <tr>\n",
       "      <th>70984154</th>\n",
       "      <td>The_Expendables_3_de.wikipedia.org_all-access_...</td>\n",
       "      <td>2017-09-10</td>\n",
       "      <td>4.000000e+00</td>\n",
       "      <td>2017</td>\n",
       "      <td>9</td>\n",
       "      <td>36</td>\n",
       "      <td>10</td>\n",
       "      <td>6</td>\n",
       "      <td>The_Expendables_3</td>\n",
       "      <td>de</td>\n",
       "      <td>wikipedia</td>\n",
       "      <td>all-access</td>\n",
       "      <td>spider</td>\n",
       "    </tr>\n",
       "    <tr>\n",
       "      <th>70984155</th>\n",
       "      <td>The_Fast_and_the_Furious_(Filmreihe)_de.wikipe...</td>\n",
       "      <td>2017-09-10</td>\n",
       "      <td>5.000000e+00</td>\n",
       "      <td>2017</td>\n",
       "      <td>9</td>\n",
       "      <td>36</td>\n",
       "      <td>10</td>\n",
       "      <td>6</td>\n",
       "      <td>The_Fast_and_the_Furious_(Filmreihe)</td>\n",
       "      <td>de</td>\n",
       "      <td>wikipedia</td>\n",
       "      <td>all-access</td>\n",
       "      <td>spider</td>\n",
       "    </tr>\n",
       "    <tr>\n",
       "      <th>70984156</th>\n",
       "      <td>The_First_Avenger:_Civil_War_de.wikipedia.org_...</td>\n",
       "      <td>2017-09-10</td>\n",
       "      <td>8.000000e+00</td>\n",
       "      <td>2017</td>\n",
       "      <td>9</td>\n",
       "      <td>36</td>\n",
       "      <td>10</td>\n",
       "      <td>6</td>\n",
       "      <td>The_First_Avenger:_Civil_War</td>\n",
       "      <td>de</td>\n",
       "      <td>wikipedia</td>\n",
       "      <td>all-access</td>\n",
       "      <td>spider</td>\n",
       "    </tr>\n",
       "    <tr>\n",
       "      <th>70984166</th>\n",
       "      <td>The_Nice_Guys_de.wikipedia.org_all-access_spider</td>\n",
       "      <td>2017-09-10</td>\n",
       "      <td>4.000000e+00</td>\n",
       "      <td>2017</td>\n",
       "      <td>9</td>\n",
       "      <td>36</td>\n",
       "      <td>10</td>\n",
       "      <td>6</td>\n",
       "      <td>The_Nice_Guys</td>\n",
       "      <td>de</td>\n",
       "      <td>wikipedia</td>\n",
       "      <td>all-access</td>\n",
       "      <td>spider</td>\n",
       "    </tr>\n",
       "    <tr>\n",
       "      <th>70984157</th>\n",
       "      <td>The_Flash_(Fernsehserie)_de.wikipedia.org_all-...</td>\n",
       "      <td>2017-09-10</td>\n",
       "      <td>7.000000e+00</td>\n",
       "      <td>2017</td>\n",
       "      <td>9</td>\n",
       "      <td>36</td>\n",
       "      <td>10</td>\n",
       "      <td>6</td>\n",
       "      <td>The_Flash_(Fernsehserie)</td>\n",
       "      <td>de</td>\n",
       "      <td>wikipedia</td>\n",
       "      <td>all-access</td>\n",
       "      <td>spider</td>\n",
       "    </tr>\n",
       "    <tr>\n",
       "      <th>70984159</th>\n",
       "      <td>The_Great_Wall_de.wikipedia.org_all-access_spider</td>\n",
       "      <td>2017-09-10</td>\n",
       "      <td>3.000000e+00</td>\n",
       "      <td>2017</td>\n",
       "      <td>9</td>\n",
       "      <td>36</td>\n",
       "      <td>10</td>\n",
       "      <td>6</td>\n",
       "      <td>The_Great_Wall</td>\n",
       "      <td>de</td>\n",
       "      <td>wikipedia</td>\n",
       "      <td>all-access</td>\n",
       "      <td>spider</td>\n",
       "    </tr>\n",
       "    <tr>\n",
       "      <th>70984160</th>\n",
       "      <td>The_Green_Mile_(Film)_de.wikipedia.org_all-acc...</td>\n",
       "      <td>2017-09-10</td>\n",
       "      <td>4.000000e+00</td>\n",
       "      <td>2017</td>\n",
       "      <td>9</td>\n",
       "      <td>36</td>\n",
       "      <td>10</td>\n",
       "      <td>6</td>\n",
       "      <td>The_Green_Mile_(Film)</td>\n",
       "      <td>de</td>\n",
       "      <td>wikipedia</td>\n",
       "      <td>all-access</td>\n",
       "      <td>spider</td>\n",
       "    </tr>\n",
       "    <tr>\n",
       "      <th>70984161</th>\n",
       "      <td>The_Hateful_Eight_de.wikipedia.org_all-access_...</td>\n",
       "      <td>2017-09-10</td>\n",
       "      <td>7.000000e+00</td>\n",
       "      <td>2017</td>\n",
       "      <td>9</td>\n",
       "      <td>36</td>\n",
       "      <td>10</td>\n",
       "      <td>6</td>\n",
       "      <td>The_Hateful_Eight</td>\n",
       "      <td>de</td>\n",
       "      <td>wikipedia</td>\n",
       "      <td>all-access</td>\n",
       "      <td>spider</td>\n",
       "    </tr>\n",
       "    <tr>\n",
       "      <th>70984162</th>\n",
       "      <td>The_Huntsman_&amp;_The_Ice_Queen_de.wikipedia.org_...</td>\n",
       "      <td>2017-09-10</td>\n",
       "      <td>2.000000e+00</td>\n",
       "      <td>2017</td>\n",
       "      <td>9</td>\n",
       "      <td>36</td>\n",
       "      <td>10</td>\n",
       "      <td>6</td>\n",
       "      <td>The_Huntsman_&amp;_The_Ice_Queen</td>\n",
       "      <td>de</td>\n",
       "      <td>wikipedia</td>\n",
       "      <td>all-access</td>\n",
       "      <td>spider</td>\n",
       "    </tr>\n",
       "    <tr>\n",
       "      <th>70984163</th>\n",
       "      <td>The_Impossible_de.wikipedia.org_all-access_spider</td>\n",
       "      <td>2017-09-10</td>\n",
       "      <td>2.000000e+00</td>\n",
       "      <td>2017</td>\n",
       "      <td>9</td>\n",
       "      <td>36</td>\n",
       "      <td>10</td>\n",
       "      <td>6</td>\n",
       "      <td>The_Impossible</td>\n",
       "      <td>de</td>\n",
       "      <td>wikipedia</td>\n",
       "      <td>all-access</td>\n",
       "      <td>spider</td>\n",
       "    </tr>\n",
       "    <tr>\n",
       "      <th>70984164</th>\n",
       "      <td>The_Magicians_de.wikipedia.org_all-access_spider</td>\n",
       "      <td>2017-09-10</td>\n",
       "      <td>3.000000e+00</td>\n",
       "      <td>2017</td>\n",
       "      <td>9</td>\n",
       "      <td>36</td>\n",
       "      <td>10</td>\n",
       "      <td>6</td>\n",
       "      <td>The_Magicians</td>\n",
       "      <td>de</td>\n",
       "      <td>wikipedia</td>\n",
       "      <td>all-access</td>\n",
       "      <td>spider</td>\n",
       "    </tr>\n",
       "    <tr>\n",
       "      <th>70984158</th>\n",
       "      <td>The_Gambler_de.wikipedia.org_all-access_spider</td>\n",
       "      <td>2017-09-10</td>\n",
       "      <td>1.000000e+00</td>\n",
       "      <td>2017</td>\n",
       "      <td>9</td>\n",
       "      <td>36</td>\n",
       "      <td>10</td>\n",
       "      <td>6</td>\n",
       "      <td>The_Gambler</td>\n",
       "      <td>de</td>\n",
       "      <td>wikipedia</td>\n",
       "      <td>all-access</td>\n",
       "      <td>spider</td>\n",
       "    </tr>\n",
       "    <tr>\n",
       "      <th>71080869</th>\n",
       "      <td>Francisco_el_matemático_(serie_de_televisión_d...</td>\n",
       "      <td>2017-09-10</td>\n",
       "      <td>3.000000e+00</td>\n",
       "      <td>2017</td>\n",
       "      <td>9</td>\n",
       "      <td>36</td>\n",
       "      <td>10</td>\n",
       "      <td>6</td>\n",
       "      <td>Francisco_el_matemático_(serie_de_televisión_d...</td>\n",
       "      <td>es</td>\n",
       "      <td>wikipedia</td>\n",
       "      <td>all-access</td>\n",
       "      <td>spider</td>\n",
       "    </tr>\n",
       "  </tbody>\n",
       "</table>\n",
       "<p>71080870 rows × 13 columns</p>\n",
       "</div>"
      ],
      "text/plain": [
       "                                                       Page       Date  \\\n",
       "0                   2NE1_zh.wikipedia.org_all-access_spider 2016-05-09   \n",
       "96717     Elemento_químico_es.wikipedia.org_mobile-web_a... 2016-05-09   \n",
       "96716     Paleolítico_es.wikipedia.org_mobile-web_all-ag... 2016-05-09   \n",
       "96715     América_de_Cali_es.wikipedia.org_mobile-web_al... 2016-05-09   \n",
       "96714     Historia_del_fútbol_es.wikipedia.org_mobile-we... 2016-05-09   \n",
       "96713     Ángel_Di_María_es.wikipedia.org_mobile-web_all... 2016-05-09   \n",
       "96712     Coordenadas_geográficas_es.wikipedia.org_mobil... 2016-05-09   \n",
       "96711     Rafael_Leónidas_Trujillo_es.wikipedia.org_mobi... 2016-05-09   \n",
       "96710     Andrés_Iniesta_es.wikipedia.org_mobile-web_all... 2016-05-09   \n",
       "96709         Tarzán_es.wikipedia.org_mobile-web_all-agents 2016-05-09   \n",
       "96708     Rodrigo_Díaz_de_Vivar_es.wikipedia.org_mobile-... 2016-05-09   \n",
       "96707     Inquisición_es.wikipedia.org_mobile-web_all-ag... 2016-05-09   \n",
       "96706         Física_es.wikipedia.org_mobile-web_all-agents 2016-05-09   \n",
       "96705     América_Central_es.wikipedia.org_mobile-web_al... 2016-05-09   \n",
       "96704     Río_de_Janeiro_es.wikipedia.org_mobile-web_all... 2016-05-09   \n",
       "96703     Ben-Hur_(película_de_2016)_es.wikipedia.org_mo... 2016-05-09   \n",
       "96702     Éver_Banega_es.wikipedia.org_mobile-web_all-ag... 2016-05-09   \n",
       "96701     Salto_con_pértiga_es.wikipedia.org_mobile-web_... 2016-05-09   \n",
       "96687      Educación_es.wikipedia.org_mobile-web_all-agents 2016-05-09   \n",
       "96688      Filosofía_es.wikipedia.org_mobile-web_all-agents 2016-05-09   \n",
       "96689        América_es.wikipedia.org_mobile-web_all-agents 2016-05-09   \n",
       "96690     Andrés_Bello_es.wikipedia.org_mobile-web_all-a... 2016-05-09   \n",
       "96691      Ramsés_II_es.wikipedia.org_mobile-web_all-agents 2016-05-09   \n",
       "96692     Día_del_Veterano_y_de_los_Caídos_en_la_Guerra_... 2016-05-09   \n",
       "96718     Declaración_de_los_Derechos_del_Hombre_y_del_C... 2016-05-09   \n",
       "96693     María_Antonieta_de_las_Nieves_es.wikipedia.org... 2016-05-09   \n",
       "96695     Geografía_de_México_es.wikipedia.org_mobile-we... 2016-05-09   \n",
       "96696     La_teoría_del_todo_es.wikipedia.org_mobile-web... 2016-05-09   \n",
       "96697     Selección_femenina_de_voleibol_de_Argentina_es... 2016-05-09   \n",
       "96698     Nicolás_Copérnico_es.wikipedia.org_mobile-web_... 2016-05-09   \n",
       "...                                                     ...        ...   \n",
       "70984173  The_Voice_of_Germany_de.wikipedia.org_all-acce... 2017-09-10   \n",
       "70984174  The_Walking_Dead_(Fernsehserie)/Staffel_5_de.w... 2017-09-10   \n",
       "70984168          The_OA_de.wikipedia.org_all-access_spider 2017-09-10   \n",
       "70984175  The_Walking_Dead_(Fernsehserie)/Staffel_6_de.w... 2017-09-10   \n",
       "70984177      Theo_James_de.wikipedia.org_all-access_spider 2017-09-10   \n",
       "70984178     Theresa_May_de.wikipedia.org_all-access_spider 2017-09-10   \n",
       "70984179  Thiel_und_Boerne_de.wikipedia.org_all-access_s... 2017-09-10   \n",
       "70984180     Thomas_Bach_de.wikipedia.org_all-access_spider 2017-09-10   \n",
       "70984181  Thomas_Cromwell,_1._Earl_of_Essex_de.wikipedia... 2017-09-10   \n",
       "70984182  Thomas_Hanreich_de.wikipedia.org_all-access_sp... 2017-09-10   \n",
       "70984176  The_Walking_Dead_(Fernsehserie)/Staffel_7_de.w... 2017-09-10   \n",
       "70984184  Thomas_Hitzlsperger_de.wikipedia.org_all-acces... 2017-09-10   \n",
       "70984167  The_Night_Manager_de.wikipedia.org_all-access_... 2017-09-10   \n",
       "70984165   The_Mentalist_de.wikipedia.org_all-access_spider 2017-09-10   \n",
       "70984151  The_Dark_Knight_de.wikipedia.org_all-access_sp... 2017-09-10   \n",
       "70984152  The_Dark_Knight_Rises_de.wikipedia.org_all-acc... 2017-09-10   \n",
       "70984153  The_Expanse_(Fernsehserie)_de.wikipedia.org_al... 2017-09-10   \n",
       "70984154  The_Expendables_3_de.wikipedia.org_all-access_... 2017-09-10   \n",
       "70984155  The_Fast_and_the_Furious_(Filmreihe)_de.wikipe... 2017-09-10   \n",
       "70984156  The_First_Avenger:_Civil_War_de.wikipedia.org_... 2017-09-10   \n",
       "70984166   The_Nice_Guys_de.wikipedia.org_all-access_spider 2017-09-10   \n",
       "70984157  The_Flash_(Fernsehserie)_de.wikipedia.org_all-... 2017-09-10   \n",
       "70984159  The_Great_Wall_de.wikipedia.org_all-access_spider 2017-09-10   \n",
       "70984160  The_Green_Mile_(Film)_de.wikipedia.org_all-acc... 2017-09-10   \n",
       "70984161  The_Hateful_Eight_de.wikipedia.org_all-access_... 2017-09-10   \n",
       "70984162  The_Huntsman_&_The_Ice_Queen_de.wikipedia.org_... 2017-09-10   \n",
       "70984163  The_Impossible_de.wikipedia.org_all-access_spider 2017-09-10   \n",
       "70984164   The_Magicians_de.wikipedia.org_all-access_spider 2017-09-10   \n",
       "70984158     The_Gambler_de.wikipedia.org_all-access_spider 2017-09-10   \n",
       "71080869  Francisco_el_matemático_(serie_de_televisión_d... 2017-09-10   \n",
       "\n",
       "                Visits  Year  Month  Week  Day  DayOfWeek  \\\n",
       "0         2.200000e+01  2016      5    19    9          0   \n",
       "96717     2.031000e+03  2016      5    19    9          0   \n",
       "96716     1.422000e+03  2016      5    19    9          0   \n",
       "96715     1.400000e+01  2016      5    19    9          0   \n",
       "96714     2.295000e+03  2016      5    19    9          0   \n",
       "96713     2.940000e+02  2016      5    19    9          0   \n",
       "96712     1.527000e+03  2016      5    19    9          0   \n",
       "96711     1.672000e+03  2016      5    19    9          0   \n",
       "96710     5.610000e+02  2016      5    19    9          0   \n",
       "96709     2.850000e+02  2016      5    19    9          0   \n",
       "96708     9.830000e+02  2016      5    19    9          0   \n",
       "96707     1.315000e+03  2016      5    19    9          0   \n",
       "96706     2.135000e+03  2016      5    19    9          0   \n",
       "96705     1.692000e+03  2016      5    19    9          0   \n",
       "96704     4.710000e+02  2016      5    19    9          0   \n",
       "96703     4.900000e+01  2016      5    19    9          0   \n",
       "96702     1.150000e+02  2016      5    19    9          0   \n",
       "96701     2.780000e+02  2016      5    19    9          0   \n",
       "96687     1.619000e+03  2016      5    19    9          0   \n",
       "96688     3.349000e+03  2016      5    19    9          0   \n",
       "96689     2.374000e+03  2016      5    19    9          0   \n",
       "96690     4.760000e+02  2016      5    19    9          0   \n",
       "96691     1.833000e+03  2016      5    19    9          0   \n",
       "96692     2.050000e+02  2016      5    19    9          0   \n",
       "96718     9.890000e+02  2016      5    19    9          0   \n",
       "96693     7.230000e+02  2016      5    19    9          0   \n",
       "96695     2.500000e+02  2016      5    19    9          0   \n",
       "96696     4.840000e+02  2016      5    19    9          0   \n",
       "96697     6.300000e+01  2016      5    19    9          0   \n",
       "96698     1.688000e+03  2016      5    19    9          0   \n",
       "...                ...   ...    ...   ...  ...        ...   \n",
       "70984173  7.000000e+00  2017      9    36   10          6   \n",
       "70984174  1.000000e+00  2017      9    36   10          6   \n",
       "70984168  5.000000e+00  2017      9    36   10          6   \n",
       "70984175  5.000000e+00  2017      9    36   10          6   \n",
       "70984177  2.000000e+00  2017      9    36   10          6   \n",
       "70984178  3.000000e+00  2017      9    36   10          6   \n",
       "70984179  7.000000e+00  2017      9    36   10          6   \n",
       "70984180  4.000000e+00  2017      9    36   10          6   \n",
       "70984181  3.000000e+00  2017      9    36   10          6   \n",
       "70984182  1.000000e-08  2017      9    36   10          6   \n",
       "70984176  6.000000e+00  2017      9    36   10          6   \n",
       "70984184  2.000000e+00  2017      9    36   10          6   \n",
       "70984167  2.000000e+00  2017      9    36   10          6   \n",
       "70984165  7.000000e+00  2017      9    36   10          6   \n",
       "70984151  4.000000e+00  2017      9    36   10          6   \n",
       "70984152  4.000000e+00  2017      9    36   10          6   \n",
       "70984153  2.600000e+01  2017      9    36   10          6   \n",
       "70984154  4.000000e+00  2017      9    36   10          6   \n",
       "70984155  5.000000e+00  2017      9    36   10          6   \n",
       "70984156  8.000000e+00  2017      9    36   10          6   \n",
       "70984166  4.000000e+00  2017      9    36   10          6   \n",
       "70984157  7.000000e+00  2017      9    36   10          6   \n",
       "70984159  3.000000e+00  2017      9    36   10          6   \n",
       "70984160  4.000000e+00  2017      9    36   10          6   \n",
       "70984161  7.000000e+00  2017      9    36   10          6   \n",
       "70984162  2.000000e+00  2017      9    36   10          6   \n",
       "70984163  2.000000e+00  2017      9    36   10          6   \n",
       "70984164  3.000000e+00  2017      9    36   10          6   \n",
       "70984158  1.000000e+00  2017      9    36   10          6   \n",
       "71080869  3.000000e+00  2017      9    36   10          6   \n",
       "\n",
       "                                                       name locale    article  \\\n",
       "0                                                      2NE1     zh  wikipedia   \n",
       "96717                                      Elemento_químico     es  wikipedia   \n",
       "96716                                           Paleolítico     es  wikipedia   \n",
       "96715                                       América_de_Cali     es  wikipedia   \n",
       "96714                                   Historia_del_fútbol     es  wikipedia   \n",
       "96713                                        Ángel_Di_María     es  wikipedia   \n",
       "96712                               Coordenadas_geográficas     es  wikipedia   \n",
       "96711                              Rafael_Leónidas_Trujillo     es  wikipedia   \n",
       "96710                                        Andrés_Iniesta     es  wikipedia   \n",
       "96709                                                Tarzán     es  wikipedia   \n",
       "96708                                 Rodrigo_Díaz_de_Vivar     es  wikipedia   \n",
       "96707                                           Inquisición     es  wikipedia   \n",
       "96706                                                Física     es  wikipedia   \n",
       "96705                                       América_Central     es  wikipedia   \n",
       "96704                                        Río_de_Janeiro     es  wikipedia   \n",
       "96703                            Ben-Hur_(película_de_2016)     es  wikipedia   \n",
       "96702                                           Éver_Banega     es  wikipedia   \n",
       "96701                                     Salto_con_pértiga     es  wikipedia   \n",
       "96687                                             Educación     es  wikipedia   \n",
       "96688                                             Filosofía     es  wikipedia   \n",
       "96689                                               América     es  wikipedia   \n",
       "96690                                          Andrés_Bello     es  wikipedia   \n",
       "96691                                             Ramsés_II     es  wikipedia   \n",
       "96692     Día_del_Veterano_y_de_los_Caídos_en_la_Guerra_...     es  wikipedia   \n",
       "96718     Declaración_de_los_Derechos_del_Hombre_y_del_C...     es  wikipedia   \n",
       "96693                         María_Antonieta_de_las_Nieves     es  wikipedia   \n",
       "96695                                   Geografía_de_México     es  wikipedia   \n",
       "96696                                    La_teoría_del_todo     es  wikipedia   \n",
       "96697           Selección_femenina_de_voleibol_de_Argentina     es  wikipedia   \n",
       "96698                                     Nicolás_Copérnico     es  wikipedia   \n",
       "...                                                     ...    ...        ...   \n",
       "70984173                               The_Voice_of_Germany     de  wikipedia   \n",
       "70984174          The_Walking_Dead_(Fernsehserie)/Staffel_5     de  wikipedia   \n",
       "70984168                                             The_OA     de  wikipedia   \n",
       "70984175          The_Walking_Dead_(Fernsehserie)/Staffel_6     de  wikipedia   \n",
       "70984177                                         Theo_James     de  wikipedia   \n",
       "70984178                                        Theresa_May     de  wikipedia   \n",
       "70984179                                   Thiel_und_Boerne     de  wikipedia   \n",
       "70984180                                        Thomas_Bach     de  wikipedia   \n",
       "70984181                  Thomas_Cromwell,_1._Earl_of_Essex     de  wikipedia   \n",
       "70984182                                    Thomas_Hanreich     de  wikipedia   \n",
       "70984176          The_Walking_Dead_(Fernsehserie)/Staffel_7     de  wikipedia   \n",
       "70984184                                Thomas_Hitzlsperger     de  wikipedia   \n",
       "70984167                                  The_Night_Manager     de  wikipedia   \n",
       "70984165                                      The_Mentalist     de  wikipedia   \n",
       "70984151                                    The_Dark_Knight     de  wikipedia   \n",
       "70984152                              The_Dark_Knight_Rises     de  wikipedia   \n",
       "70984153                         The_Expanse_(Fernsehserie)     de  wikipedia   \n",
       "70984154                                  The_Expendables_3     de  wikipedia   \n",
       "70984155               The_Fast_and_the_Furious_(Filmreihe)     de  wikipedia   \n",
       "70984156                       The_First_Avenger:_Civil_War     de  wikipedia   \n",
       "70984166                                      The_Nice_Guys     de  wikipedia   \n",
       "70984157                           The_Flash_(Fernsehserie)     de  wikipedia   \n",
       "70984159                                     The_Great_Wall     de  wikipedia   \n",
       "70984160                              The_Green_Mile_(Film)     de  wikipedia   \n",
       "70984161                                  The_Hateful_Eight     de  wikipedia   \n",
       "70984162                       The_Huntsman_&_The_Ice_Queen     de  wikipedia   \n",
       "70984163                                     The_Impossible     de  wikipedia   \n",
       "70984164                                      The_Magicians     de  wikipedia   \n",
       "70984158                                        The_Gambler     de  wikipedia   \n",
       "71080869  Francisco_el_matemático_(serie_de_televisión_d...     es  wikipedia   \n",
       "\n",
       "              access       agent  \n",
       "0         all-access      spider  \n",
       "96717     mobile-web  all-agents  \n",
       "96716     mobile-web  all-agents  \n",
       "96715     mobile-web  all-agents  \n",
       "96714     mobile-web  all-agents  \n",
       "96713     mobile-web  all-agents  \n",
       "96712     mobile-web  all-agents  \n",
       "96711     mobile-web  all-agents  \n",
       "96710     mobile-web  all-agents  \n",
       "96709     mobile-web  all-agents  \n",
       "96708     mobile-web  all-agents  \n",
       "96707     mobile-web  all-agents  \n",
       "96706     mobile-web  all-agents  \n",
       "96705     mobile-web  all-agents  \n",
       "96704     mobile-web  all-agents  \n",
       "96703     mobile-web  all-agents  \n",
       "96702     mobile-web  all-agents  \n",
       "96701     mobile-web  all-agents  \n",
       "96687     mobile-web  all-agents  \n",
       "96688     mobile-web  all-agents  \n",
       "96689     mobile-web  all-agents  \n",
       "96690     mobile-web  all-agents  \n",
       "96691     mobile-web  all-agents  \n",
       "96692     mobile-web  all-agents  \n",
       "96718     mobile-web  all-agents  \n",
       "96693     mobile-web  all-agents  \n",
       "96695     mobile-web  all-agents  \n",
       "96696     mobile-web  all-agents  \n",
       "96697     mobile-web  all-agents  \n",
       "96698     mobile-web  all-agents  \n",
       "...              ...         ...  \n",
       "70984173  all-access      spider  \n",
       "70984174  all-access      spider  \n",
       "70984168  all-access      spider  \n",
       "70984175  all-access      spider  \n",
       "70984177  all-access      spider  \n",
       "70984178  all-access      spider  \n",
       "70984179  all-access      spider  \n",
       "70984180  all-access      spider  \n",
       "70984181  all-access      spider  \n",
       "70984182  all-access      spider  \n",
       "70984176  all-access      spider  \n",
       "70984184  all-access      spider  \n",
       "70984167  all-access      spider  \n",
       "70984165  all-access      spider  \n",
       "70984151  all-access      spider  \n",
       "70984152  all-access      spider  \n",
       "70984153  all-access      spider  \n",
       "70984154  all-access      spider  \n",
       "70984155  all-access      spider  \n",
       "70984156  all-access      spider  \n",
       "70984166  all-access      spider  \n",
       "70984157  all-access      spider  \n",
       "70984159  all-access      spider  \n",
       "70984160  all-access      spider  \n",
       "70984161  all-access      spider  \n",
       "70984162  all-access      spider  \n",
       "70984163  all-access      spider  \n",
       "70984164  all-access      spider  \n",
       "70984158  all-access      spider  \n",
       "71080869  all-access      spider  \n",
       "\n",
       "[71080870 rows x 13 columns]"
      ]
     },
     "execution_count": 38,
     "metadata": {},
     "output_type": "execute_result"
    },
    {
     "name": "stdout",
     "output_type": "stream",
     "text": [
      "time: 14.4 s\n"
     ]
    }
   ],
   "source": [
    "joined.sort_values(['Date'])"
   ]
  },
  {
   "cell_type": "markdown",
   "metadata": {},
   "source": [
    "## Load the data that we are asked to predict\n",
    "This is probably overly complex but I setup the predict section together to merge with train data"
   ]
  },
  {
   "cell_type": "code",
   "execution_count": 39,
   "metadata": {},
   "outputs": [
    {
     "name": "stdout",
     "output_type": "stream",
     "text": [
      "time: 14.6 s\n"
     ]
    }
   ],
   "source": [
    "# Grabs the submission template and all the keys\n",
    "submission = pd.read_csv(path+'sample_submission_2.csv')\n",
    "# FIrst round\n",
    "#key = pd.read_csv(path+'key_2.csv')\n",
    "# use modified key RevisedKey_2\n",
    "key = pd.read_csv(path+'RevisedKey_2.csv')"
   ]
  },
  {
   "cell_type": "code",
   "execution_count": 41,
   "metadata": {},
   "outputs": [
    {
     "name": "stdout",
     "output_type": "stream",
     "text": [
      "time: 6.51 s\n"
     ]
    }
   ],
   "source": [
    "# Joins the dateframes together\n",
    "subm=join_df(submission,key, \"Id\", \"Id\")"
   ]
  },
  {
   "cell_type": "code",
   "execution_count": 42,
   "metadata": {},
   "outputs": [
    {
     "name": "stdout",
     "output_type": "stream",
     "text": [
      "time: 10.1 ms\n"
     ]
    }
   ],
   "source": [
    "# Its ugly but it will work.\n",
    "# Pulls apart all of the valuable information and joins it together\n",
    "def submission_builder(df):\n",
    "    #df[\"Date\"] = df['Page'].str.extract('(201\\d-\\d\\d-\\d\\d)', expand=True)\n",
    "    #df[\"Date\"] = df['Page'].str.extract('(201[567]-\\d\\d-\\d\\d)', expand=True)\n",
    "    \n",
    "    # Junk came alive at 12 hours before the competition ended. Another date was being captured.\n",
    "    # I couldn't regex it out\n",
    "    df[\"Junk\"] = df['Page'].str.extract('([sr]_201[567]-\\d\\d-\\d\\d)', expand=True)\n",
    "    # Pulls the real date out of the junk.\n",
    "    df[\"Date\"] = df['Junk'].str.extract('(201[567]-\\d\\d-\\d\\d)', expand=True)\n",
    "    df[\"Name\"] = df['Page'].str.rsplit('_', expand=True, n=1)[0]\n",
    "    df.Date = pd.to_datetime(df.Date)\n",
    "    df[\"Year\"] = df.Date.dt.year\n",
    "    df[\"Month\"] = df.Date.dt.month\n",
    "    df[\"Week\"] = df.Date.dt.week\n",
    "    df[\"Day\"] = df.Date.dt.day\n",
    "    df[\"DayOfWeek\"] = df.Date.dt.weekday\n",
    "    # I want to know if things are being predicted or not; -1 needs a Visit\n",
    "    df[\"Visits\"] = -1"
   ]
  },
  {
   "cell_type": "code",
   "execution_count": 43,
   "metadata": {},
   "outputs": [
    {
     "name": "stdout",
     "output_type": "stream",
     "text": [
      "time: 7.83 ms\n"
     ]
    }
   ],
   "source": [
    "# last minute date crisis\n",
    "# so i needed to do the same thing without modifying \n",
    "def submission_builder2(df):\n",
    "    #df[\"Date\"] = df['Page'].str.extract('(201\\d-\\d\\d-\\d\\d)', expand=True)\n",
    "    #df[\"Date\"] = df['Page'].str.extract('(201[567]-\\d\\d-\\d\\d)', expand=True)\n",
    "    df[\"Junk\"] = df['Page'].str.extract('([sr]_201[567]-\\d\\d-\\d\\d)', expand=True)\n",
    "    df[\"Date\"] = df['Junk'].str.extract('(201[567]-\\d\\d-\\d\\d)', expand=True)\n",
    "    df[\"Name\"] = df['Page'].str.rsplit('_', expand=True, n=1)[0]\n",
    "    df.Date = pd.to_datetime(df.Date)\n",
    "    df[\"Year\"] = df.Date.dt.year\n",
    "    df[\"Month\"] = df.Date.dt.month\n",
    "    df[\"Week\"] = df.Date.dt.week\n",
    "    df[\"Day\"] = df.Date.dt.day\n",
    "    df[\"DayOfWeek\"] = df.Date.dt.weekday"
   ]
  },
  {
   "cell_type": "code",
   "execution_count": 44,
   "metadata": {},
   "outputs": [
    {
     "name": "stdout",
     "output_type": "stream",
     "text": [
      "time: 1min 1s\n"
     ]
    },
    {
     "data": {
      "text/html": [
       "\n",
       "                <audio controls=\"controls\" autoplay=\"autoplay\">\n",
       "                    <source src=\"data:audio/wav;base64,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\" type=\"audio/wav\" />\n",
       "                    Your browser does not support the audio element.\n",
       "                </audio>\n",
       "              "
      ],
      "text/plain": [
       "<IPython.lib.display.Audio object>"
      ]
     },
     "metadata": {},
     "output_type": "display_data"
    },
    {
     "data": {
      "text/html": [
       "<style>audio{display:none}</style>"
      ],
      "text/plain": [
       "<IPython.core.display.HTML object>"
      ]
     },
     "metadata": {},
     "output_type": "display_data"
    }
   ],
   "source": [
    "# Now lets actually run the split\n",
    "submission_builder(subm)"
   ]
  },
  {
   "cell_type": "code",
   "execution_count": 47,
   "metadata": {},
   "outputs": [
    {
     "name": "stdout",
     "output_type": "stream",
     "text": [
      "time: 3.79 s\n"
     ]
    }
   ],
   "source": [
    "#Join the extra data into the prediction model\n",
    "subm=join_df(subm,pagesplit, \"Name\", \"Page\")"
   ]
  },
  {
   "cell_type": "code",
   "execution_count": 48,
   "metadata": {
    "scrolled": true
   },
   "outputs": [
    {
     "name": "stdout",
     "output_type": "stream",
     "text": [
      "time: 2.7 s\n"
     ]
    }
   ],
   "source": [
    "# Needed something to place the ID back into the \n",
    "columnsTitles=[\"Id\",\"Page\",\"Name\",\"Date\",\"Visits\"]\n",
    "ThebestestKey=subm.reindex(columns=columnsTitles)"
   ]
  },
  {
   "cell_type": "code",
   "execution_count": 49,
   "metadata": {},
   "outputs": [
    {
     "data": {
      "text/html": [
       "<div>\n",
       "<table border=\"1\" class=\"dataframe\">\n",
       "  <thead>\n",
       "    <tr style=\"text-align: right;\">\n",
       "      <th></th>\n",
       "      <th>Id</th>\n",
       "      <th>Page</th>\n",
       "      <th>Name</th>\n",
       "      <th>Date</th>\n",
       "      <th>Visits</th>\n",
       "    </tr>\n",
       "  </thead>\n",
       "  <tbody>\n",
       "    <tr>\n",
       "      <th>0</th>\n",
       "      <td>0b293039387a</td>\n",
       "      <td>007_スペクター_ja.wikipedia.org_all-access_all-agen...</td>\n",
       "      <td>007_スペクター_ja.wikipedia.org_all-access_all-agents</td>\n",
       "      <td>2017-09-13</td>\n",
       "      <td>-1</td>\n",
       "    </tr>\n",
       "    <tr>\n",
       "      <th>1</th>\n",
       "      <td>7114389dd824</td>\n",
       "      <td>007_スペクター_ja.wikipedia.org_all-access_all-agen...</td>\n",
       "      <td>007_スペクター_ja.wikipedia.org_all-access_all-agents</td>\n",
       "      <td>2017-09-14</td>\n",
       "      <td>-1</td>\n",
       "    </tr>\n",
       "    <tr>\n",
       "      <th>2</th>\n",
       "      <td>057b02ff1f09</td>\n",
       "      <td>007_スペクター_ja.wikipedia.org_all-access_all-agen...</td>\n",
       "      <td>007_スペクター_ja.wikipedia.org_all-access_all-agents</td>\n",
       "      <td>2017-09-15</td>\n",
       "      <td>-1</td>\n",
       "    </tr>\n",
       "    <tr>\n",
       "      <th>3</th>\n",
       "      <td>bd2aca21caa3</td>\n",
       "      <td>007_スペクター_ja.wikipedia.org_all-access_all-agen...</td>\n",
       "      <td>007_スペクター_ja.wikipedia.org_all-access_all-agents</td>\n",
       "      <td>2017-09-16</td>\n",
       "      <td>-1</td>\n",
       "    </tr>\n",
       "    <tr>\n",
       "      <th>4</th>\n",
       "      <td>c0effb42cdd5</td>\n",
       "      <td>007_スペクター_ja.wikipedia.org_all-access_all-agen...</td>\n",
       "      <td>007_スペクター_ja.wikipedia.org_all-access_all-agents</td>\n",
       "      <td>2017-09-17</td>\n",
       "      <td>-1</td>\n",
       "    </tr>\n",
       "    <tr>\n",
       "      <th>5</th>\n",
       "      <td>4ccd369adefc</td>\n",
       "      <td>007_スペクター_ja.wikipedia.org_all-access_all-agen...</td>\n",
       "      <td>007_スペクター_ja.wikipedia.org_all-access_all-agents</td>\n",
       "      <td>2017-09-18</td>\n",
       "      <td>-1</td>\n",
       "    </tr>\n",
       "    <tr>\n",
       "      <th>6</th>\n",
       "      <td>67d5c2ebc330</td>\n",
       "      <td>007_スペクター_ja.wikipedia.org_all-access_all-agen...</td>\n",
       "      <td>007_スペクター_ja.wikipedia.org_all-access_all-agents</td>\n",
       "      <td>2017-09-19</td>\n",
       "      <td>-1</td>\n",
       "    </tr>\n",
       "    <tr>\n",
       "      <th>7</th>\n",
       "      <td>1c51606e416b</td>\n",
       "      <td>007_スペクター_ja.wikipedia.org_all-access_all-agen...</td>\n",
       "      <td>007_スペクター_ja.wikipedia.org_all-access_all-agents</td>\n",
       "      <td>2017-09-20</td>\n",
       "      <td>-1</td>\n",
       "    </tr>\n",
       "    <tr>\n",
       "      <th>8</th>\n",
       "      <td>0f27b91481db</td>\n",
       "      <td>007_スペクター_ja.wikipedia.org_all-access_all-agen...</td>\n",
       "      <td>007_スペクター_ja.wikipedia.org_all-access_all-agents</td>\n",
       "      <td>2017-09-21</td>\n",
       "      <td>-1</td>\n",
       "    </tr>\n",
       "    <tr>\n",
       "      <th>9</th>\n",
       "      <td>07f5f08a49fa</td>\n",
       "      <td>007_スペクター_ja.wikipedia.org_all-access_all-agen...</td>\n",
       "      <td>007_スペクター_ja.wikipedia.org_all-access_all-agents</td>\n",
       "      <td>2017-09-22</td>\n",
       "      <td>-1</td>\n",
       "    </tr>\n",
       "    <tr>\n",
       "      <th>10</th>\n",
       "      <td>de5e0bd4769d</td>\n",
       "      <td>007_スペクター_ja.wikipedia.org_all-access_all-agen...</td>\n",
       "      <td>007_スペクター_ja.wikipedia.org_all-access_all-agents</td>\n",
       "      <td>2017-09-23</td>\n",
       "      <td>-1</td>\n",
       "    </tr>\n",
       "    <tr>\n",
       "      <th>11</th>\n",
       "      <td>4992950a2651</td>\n",
       "      <td>007_スペクター_ja.wikipedia.org_all-access_all-agen...</td>\n",
       "      <td>007_スペクター_ja.wikipedia.org_all-access_all-agents</td>\n",
       "      <td>2017-09-24</td>\n",
       "      <td>-1</td>\n",
       "    </tr>\n",
       "    <tr>\n",
       "      <th>12</th>\n",
       "      <td>6d53bd4dc888</td>\n",
       "      <td>007_スペクター_ja.wikipedia.org_all-access_all-agen...</td>\n",
       "      <td>007_スペクター_ja.wikipedia.org_all-access_all-agents</td>\n",
       "      <td>2017-09-25</td>\n",
       "      <td>-1</td>\n",
       "    </tr>\n",
       "    <tr>\n",
       "      <th>13</th>\n",
       "      <td>1bbd6403124c</td>\n",
       "      <td>007_スペクター_ja.wikipedia.org_all-access_all-agen...</td>\n",
       "      <td>007_スペクター_ja.wikipedia.org_all-access_all-agents</td>\n",
       "      <td>2017-09-26</td>\n",
       "      <td>-1</td>\n",
       "    </tr>\n",
       "    <tr>\n",
       "      <th>14</th>\n",
       "      <td>e8e7ff40facc</td>\n",
       "      <td>007_スペクター_ja.wikipedia.org_all-access_all-agen...</td>\n",
       "      <td>007_スペクター_ja.wikipedia.org_all-access_all-agents</td>\n",
       "      <td>2017-09-27</td>\n",
       "      <td>-1</td>\n",
       "    </tr>\n",
       "    <tr>\n",
       "      <th>15</th>\n",
       "      <td>8a4b1c6af656</td>\n",
       "      <td>007_スペクター_ja.wikipedia.org_all-access_all-agen...</td>\n",
       "      <td>007_スペクター_ja.wikipedia.org_all-access_all-agents</td>\n",
       "      <td>2017-09-28</td>\n",
       "      <td>-1</td>\n",
       "    </tr>\n",
       "    <tr>\n",
       "      <th>16</th>\n",
       "      <td>1e24475ddb8c</td>\n",
       "      <td>007_スペクター_ja.wikipedia.org_all-access_all-agen...</td>\n",
       "      <td>007_スペクター_ja.wikipedia.org_all-access_all-agents</td>\n",
       "      <td>2017-09-29</td>\n",
       "      <td>-1</td>\n",
       "    </tr>\n",
       "    <tr>\n",
       "      <th>17</th>\n",
       "      <td>02e034fdd2c4</td>\n",
       "      <td>007_スペクター_ja.wikipedia.org_all-access_all-agen...</td>\n",
       "      <td>007_スペクター_ja.wikipedia.org_all-access_all-agents</td>\n",
       "      <td>2017-09-30</td>\n",
       "      <td>-1</td>\n",
       "    </tr>\n",
       "    <tr>\n",
       "      <th>18</th>\n",
       "      <td>1cc7eb149dbd</td>\n",
       "      <td>007_スペクター_ja.wikipedia.org_all-access_all-agen...</td>\n",
       "      <td>007_スペクター_ja.wikipedia.org_all-access_all-agents</td>\n",
       "      <td>2017-10-01</td>\n",
       "      <td>-1</td>\n",
       "    </tr>\n",
       "    <tr>\n",
       "      <th>19</th>\n",
       "      <td>fb518bfef5ab</td>\n",
       "      <td>007_スペクター_ja.wikipedia.org_all-access_all-agen...</td>\n",
       "      <td>007_スペクター_ja.wikipedia.org_all-access_all-agents</td>\n",
       "      <td>2017-10-02</td>\n",
       "      <td>-1</td>\n",
       "    </tr>\n",
       "    <tr>\n",
       "      <th>20</th>\n",
       "      <td>1d1f1519ac13</td>\n",
       "      <td>007_スペクター_ja.wikipedia.org_all-access_all-agen...</td>\n",
       "      <td>007_スペクター_ja.wikipedia.org_all-access_all-agents</td>\n",
       "      <td>2017-10-03</td>\n",
       "      <td>-1</td>\n",
       "    </tr>\n",
       "    <tr>\n",
       "      <th>21</th>\n",
       "      <td>ac35a6c2b36c</td>\n",
       "      <td>007_スペクター_ja.wikipedia.org_all-access_all-agen...</td>\n",
       "      <td>007_スペクター_ja.wikipedia.org_all-access_all-agents</td>\n",
       "      <td>2017-10-04</td>\n",
       "      <td>-1</td>\n",
       "    </tr>\n",
       "    <tr>\n",
       "      <th>22</th>\n",
       "      <td>5ff1782a4045</td>\n",
       "      <td>007_スペクター_ja.wikipedia.org_all-access_all-agen...</td>\n",
       "      <td>007_スペクター_ja.wikipedia.org_all-access_all-agents</td>\n",
       "      <td>2017-10-05</td>\n",
       "      <td>-1</td>\n",
       "    </tr>\n",
       "    <tr>\n",
       "      <th>23</th>\n",
       "      <td>148aa06a6a65</td>\n",
       "      <td>007_スペクター_ja.wikipedia.org_all-access_all-agen...</td>\n",
       "      <td>007_スペクター_ja.wikipedia.org_all-access_all-agents</td>\n",
       "      <td>2017-10-06</td>\n",
       "      <td>-1</td>\n",
       "    </tr>\n",
       "    <tr>\n",
       "      <th>24</th>\n",
       "      <td>b94a0af77529</td>\n",
       "      <td>007_スペクター_ja.wikipedia.org_all-access_all-agen...</td>\n",
       "      <td>007_スペクター_ja.wikipedia.org_all-access_all-agents</td>\n",
       "      <td>2017-10-07</td>\n",
       "      <td>-1</td>\n",
       "    </tr>\n",
       "    <tr>\n",
       "      <th>25</th>\n",
       "      <td>0a214bdcec3d</td>\n",
       "      <td>007_スペクター_ja.wikipedia.org_all-access_all-agen...</td>\n",
       "      <td>007_スペクター_ja.wikipedia.org_all-access_all-agents</td>\n",
       "      <td>2017-10-08</td>\n",
       "      <td>-1</td>\n",
       "    </tr>\n",
       "    <tr>\n",
       "      <th>26</th>\n",
       "      <td>6562a45df4fd</td>\n",
       "      <td>007_スペクター_ja.wikipedia.org_all-access_all-agen...</td>\n",
       "      <td>007_スペクター_ja.wikipedia.org_all-access_all-agents</td>\n",
       "      <td>2017-10-09</td>\n",
       "      <td>-1</td>\n",
       "    </tr>\n",
       "    <tr>\n",
       "      <th>27</th>\n",
       "      <td>220e7ae73a6d</td>\n",
       "      <td>007_スペクター_ja.wikipedia.org_all-access_all-agen...</td>\n",
       "      <td>007_スペクター_ja.wikipedia.org_all-access_all-agents</td>\n",
       "      <td>2017-10-10</td>\n",
       "      <td>-1</td>\n",
       "    </tr>\n",
       "    <tr>\n",
       "      <th>28</th>\n",
       "      <td>435af699b0f2</td>\n",
       "      <td>007_スペクター_ja.wikipedia.org_all-access_all-agen...</td>\n",
       "      <td>007_スペクター_ja.wikipedia.org_all-access_all-agents</td>\n",
       "      <td>2017-10-11</td>\n",
       "      <td>-1</td>\n",
       "    </tr>\n",
       "    <tr>\n",
       "      <th>29</th>\n",
       "      <td>a2c44639e9e4</td>\n",
       "      <td>007_スペクター_ja.wikipedia.org_all-access_all-agen...</td>\n",
       "      <td>007_スペクター_ja.wikipedia.org_all-access_all-agents</td>\n",
       "      <td>2017-10-12</td>\n",
       "      <td>-1</td>\n",
       "    </tr>\n",
       "    <tr>\n",
       "      <th>...</th>\n",
       "      <td>...</td>\n",
       "      <td>...</td>\n",
       "      <td>...</td>\n",
       "      <td>...</td>\n",
       "      <td>...</td>\n",
       "    </tr>\n",
       "    <tr>\n",
       "      <th>8993876</th>\n",
       "      <td>f4f823ef5696</td>\n",
       "      <td>龙生九子_zh.wikipedia.org_mobile-web_all-agents_20...</td>\n",
       "      <td>龙生九子_zh.wikipedia.org_mobile-web_all-agents</td>\n",
       "      <td>2017-10-15</td>\n",
       "      <td>-1</td>\n",
       "    </tr>\n",
       "    <tr>\n",
       "      <th>8993877</th>\n",
       "      <td>f0320830b44c</td>\n",
       "      <td>龙生九子_zh.wikipedia.org_mobile-web_all-agents_20...</td>\n",
       "      <td>龙生九子_zh.wikipedia.org_mobile-web_all-agents</td>\n",
       "      <td>2017-10-16</td>\n",
       "      <td>-1</td>\n",
       "    </tr>\n",
       "    <tr>\n",
       "      <th>8993878</th>\n",
       "      <td>342e1d97fd05</td>\n",
       "      <td>龙生九子_zh.wikipedia.org_mobile-web_all-agents_20...</td>\n",
       "      <td>龙生九子_zh.wikipedia.org_mobile-web_all-agents</td>\n",
       "      <td>2017-10-17</td>\n",
       "      <td>-1</td>\n",
       "    </tr>\n",
       "    <tr>\n",
       "      <th>8993879</th>\n",
       "      <td>b1477f44cd9b</td>\n",
       "      <td>龙生九子_zh.wikipedia.org_mobile-web_all-agents_20...</td>\n",
       "      <td>龙生九子_zh.wikipedia.org_mobile-web_all-agents</td>\n",
       "      <td>2017-10-18</td>\n",
       "      <td>-1</td>\n",
       "    </tr>\n",
       "    <tr>\n",
       "      <th>8993880</th>\n",
       "      <td>da253f622bc2</td>\n",
       "      <td>龙生九子_zh.wikipedia.org_mobile-web_all-agents_20...</td>\n",
       "      <td>龙生九子_zh.wikipedia.org_mobile-web_all-agents</td>\n",
       "      <td>2017-10-19</td>\n",
       "      <td>-1</td>\n",
       "    </tr>\n",
       "    <tr>\n",
       "      <th>8993881</th>\n",
       "      <td>2011edc98ab6</td>\n",
       "      <td>龙生九子_zh.wikipedia.org_mobile-web_all-agents_20...</td>\n",
       "      <td>龙生九子_zh.wikipedia.org_mobile-web_all-agents</td>\n",
       "      <td>2017-10-20</td>\n",
       "      <td>-1</td>\n",
       "    </tr>\n",
       "    <tr>\n",
       "      <th>8993882</th>\n",
       "      <td>6d43be567135</td>\n",
       "      <td>龙生九子_zh.wikipedia.org_mobile-web_all-agents_20...</td>\n",
       "      <td>龙生九子_zh.wikipedia.org_mobile-web_all-agents</td>\n",
       "      <td>2017-10-21</td>\n",
       "      <td>-1</td>\n",
       "    </tr>\n",
       "    <tr>\n",
       "      <th>8993883</th>\n",
       "      <td>63fba276ae93</td>\n",
       "      <td>龙生九子_zh.wikipedia.org_mobile-web_all-agents_20...</td>\n",
       "      <td>龙生九子_zh.wikipedia.org_mobile-web_all-agents</td>\n",
       "      <td>2017-10-22</td>\n",
       "      <td>-1</td>\n",
       "    </tr>\n",
       "    <tr>\n",
       "      <th>8993884</th>\n",
       "      <td>4d52c4f26bea</td>\n",
       "      <td>龙生九子_zh.wikipedia.org_mobile-web_all-agents_20...</td>\n",
       "      <td>龙生九子_zh.wikipedia.org_mobile-web_all-agents</td>\n",
       "      <td>2017-10-23</td>\n",
       "      <td>-1</td>\n",
       "    </tr>\n",
       "    <tr>\n",
       "      <th>8993885</th>\n",
       "      <td>4fdb762699cc</td>\n",
       "      <td>龙生九子_zh.wikipedia.org_mobile-web_all-agents_20...</td>\n",
       "      <td>龙生九子_zh.wikipedia.org_mobile-web_all-agents</td>\n",
       "      <td>2017-10-24</td>\n",
       "      <td>-1</td>\n",
       "    </tr>\n",
       "    <tr>\n",
       "      <th>8993886</th>\n",
       "      <td>aeb4cd159568</td>\n",
       "      <td>龙生九子_zh.wikipedia.org_mobile-web_all-agents_20...</td>\n",
       "      <td>龙生九子_zh.wikipedia.org_mobile-web_all-agents</td>\n",
       "      <td>2017-10-25</td>\n",
       "      <td>-1</td>\n",
       "    </tr>\n",
       "    <tr>\n",
       "      <th>8993887</th>\n",
       "      <td>61f9ad4a134b</td>\n",
       "      <td>龙生九子_zh.wikipedia.org_mobile-web_all-agents_20...</td>\n",
       "      <td>龙生九子_zh.wikipedia.org_mobile-web_all-agents</td>\n",
       "      <td>2017-10-26</td>\n",
       "      <td>-1</td>\n",
       "    </tr>\n",
       "    <tr>\n",
       "      <th>8993888</th>\n",
       "      <td>65a1df224420</td>\n",
       "      <td>龙生九子_zh.wikipedia.org_mobile-web_all-agents_20...</td>\n",
       "      <td>龙生九子_zh.wikipedia.org_mobile-web_all-agents</td>\n",
       "      <td>2017-10-27</td>\n",
       "      <td>-1</td>\n",
       "    </tr>\n",
       "    <tr>\n",
       "      <th>8993889</th>\n",
       "      <td>f218e2a344f0</td>\n",
       "      <td>龙生九子_zh.wikipedia.org_mobile-web_all-agents_20...</td>\n",
       "      <td>龙生九子_zh.wikipedia.org_mobile-web_all-agents</td>\n",
       "      <td>2017-10-28</td>\n",
       "      <td>-1</td>\n",
       "    </tr>\n",
       "    <tr>\n",
       "      <th>8993890</th>\n",
       "      <td>55a0f4f60bcf</td>\n",
       "      <td>龙生九子_zh.wikipedia.org_mobile-web_all-agents_20...</td>\n",
       "      <td>龙生九子_zh.wikipedia.org_mobile-web_all-agents</td>\n",
       "      <td>2017-10-29</td>\n",
       "      <td>-1</td>\n",
       "    </tr>\n",
       "    <tr>\n",
       "      <th>8993891</th>\n",
       "      <td>f1f430469c68</td>\n",
       "      <td>龙生九子_zh.wikipedia.org_mobile-web_all-agents_20...</td>\n",
       "      <td>龙生九子_zh.wikipedia.org_mobile-web_all-agents</td>\n",
       "      <td>2017-10-30</td>\n",
       "      <td>-1</td>\n",
       "    </tr>\n",
       "    <tr>\n",
       "      <th>8993892</th>\n",
       "      <td>f560ef9fa473</td>\n",
       "      <td>龙生九子_zh.wikipedia.org_mobile-web_all-agents_20...</td>\n",
       "      <td>龙生九子_zh.wikipedia.org_mobile-web_all-agents</td>\n",
       "      <td>2017-10-31</td>\n",
       "      <td>-1</td>\n",
       "    </tr>\n",
       "    <tr>\n",
       "      <th>8993893</th>\n",
       "      <td>ec2d0d713c50</td>\n",
       "      <td>龙生九子_zh.wikipedia.org_mobile-web_all-agents_20...</td>\n",
       "      <td>龙生九子_zh.wikipedia.org_mobile-web_all-agents</td>\n",
       "      <td>2017-11-01</td>\n",
       "      <td>-1</td>\n",
       "    </tr>\n",
       "    <tr>\n",
       "      <th>8993894</th>\n",
       "      <td>4f13b0cd46f9</td>\n",
       "      <td>龙生九子_zh.wikipedia.org_mobile-web_all-agents_20...</td>\n",
       "      <td>龙生九子_zh.wikipedia.org_mobile-web_all-agents</td>\n",
       "      <td>2017-11-02</td>\n",
       "      <td>-1</td>\n",
       "    </tr>\n",
       "    <tr>\n",
       "      <th>8993895</th>\n",
       "      <td>3464386275bc</td>\n",
       "      <td>龙生九子_zh.wikipedia.org_mobile-web_all-agents_20...</td>\n",
       "      <td>龙生九子_zh.wikipedia.org_mobile-web_all-agents</td>\n",
       "      <td>2017-11-03</td>\n",
       "      <td>-1</td>\n",
       "    </tr>\n",
       "    <tr>\n",
       "      <th>8993896</th>\n",
       "      <td>2b1ae259f55a</td>\n",
       "      <td>龙生九子_zh.wikipedia.org_mobile-web_all-agents_20...</td>\n",
       "      <td>龙生九子_zh.wikipedia.org_mobile-web_all-agents</td>\n",
       "      <td>2017-11-04</td>\n",
       "      <td>-1</td>\n",
       "    </tr>\n",
       "    <tr>\n",
       "      <th>8993897</th>\n",
       "      <td>75deaba16778</td>\n",
       "      <td>龙生九子_zh.wikipedia.org_mobile-web_all-agents_20...</td>\n",
       "      <td>龙生九子_zh.wikipedia.org_mobile-web_all-agents</td>\n",
       "      <td>2017-11-05</td>\n",
       "      <td>-1</td>\n",
       "    </tr>\n",
       "    <tr>\n",
       "      <th>8993898</th>\n",
       "      <td>a4d97ae6a195</td>\n",
       "      <td>龙生九子_zh.wikipedia.org_mobile-web_all-agents_20...</td>\n",
       "      <td>龙生九子_zh.wikipedia.org_mobile-web_all-agents</td>\n",
       "      <td>2017-11-06</td>\n",
       "      <td>-1</td>\n",
       "    </tr>\n",
       "    <tr>\n",
       "      <th>8993899</th>\n",
       "      <td>4e0c1e64f738</td>\n",
       "      <td>龙生九子_zh.wikipedia.org_mobile-web_all-agents_20...</td>\n",
       "      <td>龙生九子_zh.wikipedia.org_mobile-web_all-agents</td>\n",
       "      <td>2017-11-07</td>\n",
       "      <td>-1</td>\n",
       "    </tr>\n",
       "    <tr>\n",
       "      <th>8993900</th>\n",
       "      <td>9a735df742e2</td>\n",
       "      <td>龙生九子_zh.wikipedia.org_mobile-web_all-agents_20...</td>\n",
       "      <td>龙生九子_zh.wikipedia.org_mobile-web_all-agents</td>\n",
       "      <td>2017-11-08</td>\n",
       "      <td>-1</td>\n",
       "    </tr>\n",
       "    <tr>\n",
       "      <th>8993901</th>\n",
       "      <td>f78fbaa305ad</td>\n",
       "      <td>龙生九子_zh.wikipedia.org_mobile-web_all-agents_20...</td>\n",
       "      <td>龙生九子_zh.wikipedia.org_mobile-web_all-agents</td>\n",
       "      <td>2017-11-09</td>\n",
       "      <td>-1</td>\n",
       "    </tr>\n",
       "    <tr>\n",
       "      <th>8993902</th>\n",
       "      <td>33aecaf259d1</td>\n",
       "      <td>龙生九子_zh.wikipedia.org_mobile-web_all-agents_20...</td>\n",
       "      <td>龙生九子_zh.wikipedia.org_mobile-web_all-agents</td>\n",
       "      <td>2017-11-10</td>\n",
       "      <td>-1</td>\n",
       "    </tr>\n",
       "    <tr>\n",
       "      <th>8993903</th>\n",
       "      <td>a36228b64466</td>\n",
       "      <td>龙生九子_zh.wikipedia.org_mobile-web_all-agents_20...</td>\n",
       "      <td>龙生九子_zh.wikipedia.org_mobile-web_all-agents</td>\n",
       "      <td>2017-11-11</td>\n",
       "      <td>-1</td>\n",
       "    </tr>\n",
       "    <tr>\n",
       "      <th>8993904</th>\n",
       "      <td>26887d3e5c99</td>\n",
       "      <td>龙生九子_zh.wikipedia.org_mobile-web_all-agents_20...</td>\n",
       "      <td>龙生九子_zh.wikipedia.org_mobile-web_all-agents</td>\n",
       "      <td>2017-11-12</td>\n",
       "      <td>-1</td>\n",
       "    </tr>\n",
       "    <tr>\n",
       "      <th>8993905</th>\n",
       "      <td>06ad06979f80</td>\n",
       "      <td>龙生九子_zh.wikipedia.org_mobile-web_all-agents_20...</td>\n",
       "      <td>龙生九子_zh.wikipedia.org_mobile-web_all-agents</td>\n",
       "      <td>2017-11-13</td>\n",
       "      <td>-1</td>\n",
       "    </tr>\n",
       "  </tbody>\n",
       "</table>\n",
       "<p>8993906 rows × 5 columns</p>\n",
       "</div>"
      ],
      "text/plain": [
       "                   Id                                               Page  \\\n",
       "0        0b293039387a  007_スペクター_ja.wikipedia.org_all-access_all-agen...   \n",
       "1        7114389dd824  007_スペクター_ja.wikipedia.org_all-access_all-agen...   \n",
       "2        057b02ff1f09  007_スペクター_ja.wikipedia.org_all-access_all-agen...   \n",
       "3        bd2aca21caa3  007_スペクター_ja.wikipedia.org_all-access_all-agen...   \n",
       "4        c0effb42cdd5  007_スペクター_ja.wikipedia.org_all-access_all-agen...   \n",
       "5        4ccd369adefc  007_スペクター_ja.wikipedia.org_all-access_all-agen...   \n",
       "6        67d5c2ebc330  007_スペクター_ja.wikipedia.org_all-access_all-agen...   \n",
       "7        1c51606e416b  007_スペクター_ja.wikipedia.org_all-access_all-agen...   \n",
       "8        0f27b91481db  007_スペクター_ja.wikipedia.org_all-access_all-agen...   \n",
       "9        07f5f08a49fa  007_スペクター_ja.wikipedia.org_all-access_all-agen...   \n",
       "10       de5e0bd4769d  007_スペクター_ja.wikipedia.org_all-access_all-agen...   \n",
       "11       4992950a2651  007_スペクター_ja.wikipedia.org_all-access_all-agen...   \n",
       "12       6d53bd4dc888  007_スペクター_ja.wikipedia.org_all-access_all-agen...   \n",
       "13       1bbd6403124c  007_スペクター_ja.wikipedia.org_all-access_all-agen...   \n",
       "14       e8e7ff40facc  007_スペクター_ja.wikipedia.org_all-access_all-agen...   \n",
       "15       8a4b1c6af656  007_スペクター_ja.wikipedia.org_all-access_all-agen...   \n",
       "16       1e24475ddb8c  007_スペクター_ja.wikipedia.org_all-access_all-agen...   \n",
       "17       02e034fdd2c4  007_スペクター_ja.wikipedia.org_all-access_all-agen...   \n",
       "18       1cc7eb149dbd  007_スペクター_ja.wikipedia.org_all-access_all-agen...   \n",
       "19       fb518bfef5ab  007_スペクター_ja.wikipedia.org_all-access_all-agen...   \n",
       "20       1d1f1519ac13  007_スペクター_ja.wikipedia.org_all-access_all-agen...   \n",
       "21       ac35a6c2b36c  007_スペクター_ja.wikipedia.org_all-access_all-agen...   \n",
       "22       5ff1782a4045  007_スペクター_ja.wikipedia.org_all-access_all-agen...   \n",
       "23       148aa06a6a65  007_スペクター_ja.wikipedia.org_all-access_all-agen...   \n",
       "24       b94a0af77529  007_スペクター_ja.wikipedia.org_all-access_all-agen...   \n",
       "25       0a214bdcec3d  007_スペクター_ja.wikipedia.org_all-access_all-agen...   \n",
       "26       6562a45df4fd  007_スペクター_ja.wikipedia.org_all-access_all-agen...   \n",
       "27       220e7ae73a6d  007_スペクター_ja.wikipedia.org_all-access_all-agen...   \n",
       "28       435af699b0f2  007_スペクター_ja.wikipedia.org_all-access_all-agen...   \n",
       "29       a2c44639e9e4  007_スペクター_ja.wikipedia.org_all-access_all-agen...   \n",
       "...               ...                                                ...   \n",
       "8993876  f4f823ef5696  龙生九子_zh.wikipedia.org_mobile-web_all-agents_20...   \n",
       "8993877  f0320830b44c  龙生九子_zh.wikipedia.org_mobile-web_all-agents_20...   \n",
       "8993878  342e1d97fd05  龙生九子_zh.wikipedia.org_mobile-web_all-agents_20...   \n",
       "8993879  b1477f44cd9b  龙生九子_zh.wikipedia.org_mobile-web_all-agents_20...   \n",
       "8993880  da253f622bc2  龙生九子_zh.wikipedia.org_mobile-web_all-agents_20...   \n",
       "8993881  2011edc98ab6  龙生九子_zh.wikipedia.org_mobile-web_all-agents_20...   \n",
       "8993882  6d43be567135  龙生九子_zh.wikipedia.org_mobile-web_all-agents_20...   \n",
       "8993883  63fba276ae93  龙生九子_zh.wikipedia.org_mobile-web_all-agents_20...   \n",
       "8993884  4d52c4f26bea  龙生九子_zh.wikipedia.org_mobile-web_all-agents_20...   \n",
       "8993885  4fdb762699cc  龙生九子_zh.wikipedia.org_mobile-web_all-agents_20...   \n",
       "8993886  aeb4cd159568  龙生九子_zh.wikipedia.org_mobile-web_all-agents_20...   \n",
       "8993887  61f9ad4a134b  龙生九子_zh.wikipedia.org_mobile-web_all-agents_20...   \n",
       "8993888  65a1df224420  龙生九子_zh.wikipedia.org_mobile-web_all-agents_20...   \n",
       "8993889  f218e2a344f0  龙生九子_zh.wikipedia.org_mobile-web_all-agents_20...   \n",
       "8993890  55a0f4f60bcf  龙生九子_zh.wikipedia.org_mobile-web_all-agents_20...   \n",
       "8993891  f1f430469c68  龙生九子_zh.wikipedia.org_mobile-web_all-agents_20...   \n",
       "8993892  f560ef9fa473  龙生九子_zh.wikipedia.org_mobile-web_all-agents_20...   \n",
       "8993893  ec2d0d713c50  龙生九子_zh.wikipedia.org_mobile-web_all-agents_20...   \n",
       "8993894  4f13b0cd46f9  龙生九子_zh.wikipedia.org_mobile-web_all-agents_20...   \n",
       "8993895  3464386275bc  龙生九子_zh.wikipedia.org_mobile-web_all-agents_20...   \n",
       "8993896  2b1ae259f55a  龙生九子_zh.wikipedia.org_mobile-web_all-agents_20...   \n",
       "8993897  75deaba16778  龙生九子_zh.wikipedia.org_mobile-web_all-agents_20...   \n",
       "8993898  a4d97ae6a195  龙生九子_zh.wikipedia.org_mobile-web_all-agents_20...   \n",
       "8993899  4e0c1e64f738  龙生九子_zh.wikipedia.org_mobile-web_all-agents_20...   \n",
       "8993900  9a735df742e2  龙生九子_zh.wikipedia.org_mobile-web_all-agents_20...   \n",
       "8993901  f78fbaa305ad  龙生九子_zh.wikipedia.org_mobile-web_all-agents_20...   \n",
       "8993902  33aecaf259d1  龙生九子_zh.wikipedia.org_mobile-web_all-agents_20...   \n",
       "8993903  a36228b64466  龙生九子_zh.wikipedia.org_mobile-web_all-agents_20...   \n",
       "8993904  26887d3e5c99  龙生九子_zh.wikipedia.org_mobile-web_all-agents_20...   \n",
       "8993905  06ad06979f80  龙生九子_zh.wikipedia.org_mobile-web_all-agents_20...   \n",
       "\n",
       "                                                     Name       Date  Visits  \n",
       "0        007_スペクター_ja.wikipedia.org_all-access_all-agents 2017-09-13      -1  \n",
       "1        007_スペクター_ja.wikipedia.org_all-access_all-agents 2017-09-14      -1  \n",
       "2        007_スペクター_ja.wikipedia.org_all-access_all-agents 2017-09-15      -1  \n",
       "3        007_スペクター_ja.wikipedia.org_all-access_all-agents 2017-09-16      -1  \n",
       "4        007_スペクター_ja.wikipedia.org_all-access_all-agents 2017-09-17      -1  \n",
       "5        007_スペクター_ja.wikipedia.org_all-access_all-agents 2017-09-18      -1  \n",
       "6        007_スペクター_ja.wikipedia.org_all-access_all-agents 2017-09-19      -1  \n",
       "7        007_スペクター_ja.wikipedia.org_all-access_all-agents 2017-09-20      -1  \n",
       "8        007_スペクター_ja.wikipedia.org_all-access_all-agents 2017-09-21      -1  \n",
       "9        007_スペクター_ja.wikipedia.org_all-access_all-agents 2017-09-22      -1  \n",
       "10       007_スペクター_ja.wikipedia.org_all-access_all-agents 2017-09-23      -1  \n",
       "11       007_スペクター_ja.wikipedia.org_all-access_all-agents 2017-09-24      -1  \n",
       "12       007_スペクター_ja.wikipedia.org_all-access_all-agents 2017-09-25      -1  \n",
       "13       007_スペクター_ja.wikipedia.org_all-access_all-agents 2017-09-26      -1  \n",
       "14       007_スペクター_ja.wikipedia.org_all-access_all-agents 2017-09-27      -1  \n",
       "15       007_スペクター_ja.wikipedia.org_all-access_all-agents 2017-09-28      -1  \n",
       "16       007_スペクター_ja.wikipedia.org_all-access_all-agents 2017-09-29      -1  \n",
       "17       007_スペクター_ja.wikipedia.org_all-access_all-agents 2017-09-30      -1  \n",
       "18       007_スペクター_ja.wikipedia.org_all-access_all-agents 2017-10-01      -1  \n",
       "19       007_スペクター_ja.wikipedia.org_all-access_all-agents 2017-10-02      -1  \n",
       "20       007_スペクター_ja.wikipedia.org_all-access_all-agents 2017-10-03      -1  \n",
       "21       007_スペクター_ja.wikipedia.org_all-access_all-agents 2017-10-04      -1  \n",
       "22       007_スペクター_ja.wikipedia.org_all-access_all-agents 2017-10-05      -1  \n",
       "23       007_スペクター_ja.wikipedia.org_all-access_all-agents 2017-10-06      -1  \n",
       "24       007_スペクター_ja.wikipedia.org_all-access_all-agents 2017-10-07      -1  \n",
       "25       007_スペクター_ja.wikipedia.org_all-access_all-agents 2017-10-08      -1  \n",
       "26       007_スペクター_ja.wikipedia.org_all-access_all-agents 2017-10-09      -1  \n",
       "27       007_スペクター_ja.wikipedia.org_all-access_all-agents 2017-10-10      -1  \n",
       "28       007_スペクター_ja.wikipedia.org_all-access_all-agents 2017-10-11      -1  \n",
       "29       007_スペクター_ja.wikipedia.org_all-access_all-agents 2017-10-12      -1  \n",
       "...                                                   ...        ...     ...  \n",
       "8993876       龙生九子_zh.wikipedia.org_mobile-web_all-agents 2017-10-15      -1  \n",
       "8993877       龙生九子_zh.wikipedia.org_mobile-web_all-agents 2017-10-16      -1  \n",
       "8993878       龙生九子_zh.wikipedia.org_mobile-web_all-agents 2017-10-17      -1  \n",
       "8993879       龙生九子_zh.wikipedia.org_mobile-web_all-agents 2017-10-18      -1  \n",
       "8993880       龙生九子_zh.wikipedia.org_mobile-web_all-agents 2017-10-19      -1  \n",
       "8993881       龙生九子_zh.wikipedia.org_mobile-web_all-agents 2017-10-20      -1  \n",
       "8993882       龙生九子_zh.wikipedia.org_mobile-web_all-agents 2017-10-21      -1  \n",
       "8993883       龙生九子_zh.wikipedia.org_mobile-web_all-agents 2017-10-22      -1  \n",
       "8993884       龙生九子_zh.wikipedia.org_mobile-web_all-agents 2017-10-23      -1  \n",
       "8993885       龙生九子_zh.wikipedia.org_mobile-web_all-agents 2017-10-24      -1  \n",
       "8993886       龙生九子_zh.wikipedia.org_mobile-web_all-agents 2017-10-25      -1  \n",
       "8993887       龙生九子_zh.wikipedia.org_mobile-web_all-agents 2017-10-26      -1  \n",
       "8993888       龙生九子_zh.wikipedia.org_mobile-web_all-agents 2017-10-27      -1  \n",
       "8993889       龙生九子_zh.wikipedia.org_mobile-web_all-agents 2017-10-28      -1  \n",
       "8993890       龙生九子_zh.wikipedia.org_mobile-web_all-agents 2017-10-29      -1  \n",
       "8993891       龙生九子_zh.wikipedia.org_mobile-web_all-agents 2017-10-30      -1  \n",
       "8993892       龙生九子_zh.wikipedia.org_mobile-web_all-agents 2017-10-31      -1  \n",
       "8993893       龙生九子_zh.wikipedia.org_mobile-web_all-agents 2017-11-01      -1  \n",
       "8993894       龙生九子_zh.wikipedia.org_mobile-web_all-agents 2017-11-02      -1  \n",
       "8993895       龙生九子_zh.wikipedia.org_mobile-web_all-agents 2017-11-03      -1  \n",
       "8993896       龙生九子_zh.wikipedia.org_mobile-web_all-agents 2017-11-04      -1  \n",
       "8993897       龙生九子_zh.wikipedia.org_mobile-web_all-agents 2017-11-05      -1  \n",
       "8993898       龙生九子_zh.wikipedia.org_mobile-web_all-agents 2017-11-06      -1  \n",
       "8993899       龙生九子_zh.wikipedia.org_mobile-web_all-agents 2017-11-07      -1  \n",
       "8993900       龙生九子_zh.wikipedia.org_mobile-web_all-agents 2017-11-08      -1  \n",
       "8993901       龙生九子_zh.wikipedia.org_mobile-web_all-agents 2017-11-09      -1  \n",
       "8993902       龙生九子_zh.wikipedia.org_mobile-web_all-agents 2017-11-10      -1  \n",
       "8993903       龙生九子_zh.wikipedia.org_mobile-web_all-agents 2017-11-11      -1  \n",
       "8993904       龙生九子_zh.wikipedia.org_mobile-web_all-agents 2017-11-12      -1  \n",
       "8993905       龙生九子_zh.wikipedia.org_mobile-web_all-agents 2017-11-13      -1  \n",
       "\n",
       "[8993906 rows x 5 columns]"
      ]
     },
     "execution_count": 49,
     "metadata": {},
     "output_type": "execute_result"
    },
    {
     "name": "stdout",
     "output_type": "stream",
     "text": [
      "time: 16.4 ms\n"
     ]
    }
   ],
   "source": [
    "ThebestestKey"
   ]
  },
  {
   "cell_type": "code",
   "execution_count": 50,
   "metadata": {},
   "outputs": [
    {
     "name": "stdout",
     "output_type": "stream",
     "text": [
      "time: 11 s\n"
     ]
    }
   ],
   "source": [
    "# get it saved for the other program\n",
    "pickle.dump(ThebestestKey, open('ThebestestKey.pickle', 'wb'))"
   ]
  },
  {
   "cell_type": "code",
   "execution_count": 51,
   "metadata": {},
   "outputs": [
    {
     "data": {
      "text/html": [
       "<div>\n",
       "<table border=\"1\" class=\"dataframe\">\n",
       "  <thead>\n",
       "    <tr style=\"text-align: right;\">\n",
       "      <th></th>\n",
       "      <th>Page</th>\n",
       "      <th>Name</th>\n",
       "      <th>Date</th>\n",
       "      <th>Visits</th>\n",
       "      <th>Year</th>\n",
       "      <th>Month</th>\n",
       "      <th>Week</th>\n",
       "      <th>Day</th>\n",
       "      <th>DayOfWeek</th>\n",
       "      <th>name</th>\n",
       "      <th>locale</th>\n",
       "      <th>article</th>\n",
       "      <th>access</th>\n",
       "      <th>agent</th>\n",
       "    </tr>\n",
       "  </thead>\n",
       "  <tbody>\n",
       "    <tr>\n",
       "      <th>0</th>\n",
       "      <td>007_スペクター_ja.wikipedia.org_all-access_all-agen...</td>\n",
       "      <td>007_スペクター_ja.wikipedia.org_all-access_all-agents</td>\n",
       "      <td>2017-09-13</td>\n",
       "      <td>-1</td>\n",
       "      <td>2017</td>\n",
       "      <td>9</td>\n",
       "      <td>37</td>\n",
       "      <td>13</td>\n",
       "      <td>2</td>\n",
       "      <td>007_スペクター</td>\n",
       "      <td>ja</td>\n",
       "      <td>wikipedia</td>\n",
       "      <td>all-access</td>\n",
       "      <td>all-agents</td>\n",
       "    </tr>\n",
       "  </tbody>\n",
       "</table>\n",
       "</div>"
      ],
      "text/plain": [
       "                                                Page  \\\n",
       "0  007_スペクター_ja.wikipedia.org_all-access_all-agen...   \n",
       "\n",
       "                                               Name       Date  Visits  Year  \\\n",
       "0  007_スペクター_ja.wikipedia.org_all-access_all-agents 2017-09-13      -1  2017   \n",
       "\n",
       "   Month  Week  Day  DayOfWeek       name locale    article      access  \\\n",
       "0      9    37   13          2  007_スペクター     ja  wikipedia  all-access   \n",
       "\n",
       "        agent  \n",
       "0  all-agents  "
      ]
     },
     "execution_count": 51,
     "metadata": {},
     "output_type": "execute_result"
    },
    {
     "name": "stdout",
     "output_type": "stream",
     "text": [
      "time: 541 ms\n"
     ]
    }
   ],
   "source": [
    "# the prediction tables have all of this good information on it... only this though... drop everything else.\n",
    "columnsTitles=[\"Page\",\"Name\",\"Date\",\"Visits\", \"Year\", \"Month\", \"Week\",\"Day\",\"DayOfWeek\", \"name\", \"locale\",\"article\",\"access\",\"agent\"]\n",
    "ptables=subm.reindex(columns=columnsTitles)\n",
    "ptables[:1]"
   ]
  },
  {
   "cell_type": "code",
   "execution_count": 52,
   "metadata": {},
   "outputs": [
    {
     "name": "stdout",
     "output_type": "stream",
     "text": [
      "time: 388 ms\n"
     ]
    }
   ],
   "source": [
    "# and i dont need Page but name... so lets drop it\n",
    "ptables=ptables.drop('Page', axis=1)\n",
    "#overly complicated way to rename Page\n",
    "ptables.columns = [\"Page\",\"Date\",\"Visits\", \"Year\", \"Month\", \"Week\",\"Day\",\"DayOfWeek\", \"name\", \"locale\",\"article\",\"access\",\"agent\"]"
   ]
  },
  {
   "cell_type": "code",
   "execution_count": 53,
   "metadata": {},
   "outputs": [
    {
     "data": {
      "text/html": [
       "<div>\n",
       "<table border=\"1\" class=\"dataframe\">\n",
       "  <thead>\n",
       "    <tr style=\"text-align: right;\">\n",
       "      <th></th>\n",
       "      <th>Page</th>\n",
       "      <th>Date</th>\n",
       "      <th>Visits</th>\n",
       "      <th>Year</th>\n",
       "      <th>Month</th>\n",
       "      <th>Week</th>\n",
       "      <th>Day</th>\n",
       "      <th>DayOfWeek</th>\n",
       "      <th>name</th>\n",
       "      <th>locale</th>\n",
       "      <th>article</th>\n",
       "      <th>access</th>\n",
       "      <th>agent</th>\n",
       "    </tr>\n",
       "  </thead>\n",
       "  <tbody>\n",
       "    <tr>\n",
       "      <th>0</th>\n",
       "      <td>007_スペクター_ja.wikipedia.org_all-access_all-agents</td>\n",
       "      <td>2017-09-13</td>\n",
       "      <td>-1</td>\n",
       "      <td>2017</td>\n",
       "      <td>9</td>\n",
       "      <td>37</td>\n",
       "      <td>13</td>\n",
       "      <td>2</td>\n",
       "      <td>007_スペクター</td>\n",
       "      <td>ja</td>\n",
       "      <td>wikipedia</td>\n",
       "      <td>all-access</td>\n",
       "      <td>all-agents</td>\n",
       "    </tr>\n",
       "  </tbody>\n",
       "</table>\n",
       "</div>"
      ],
      "text/plain": [
       "                                               Page       Date  Visits  Year  \\\n",
       "0  007_スペクター_ja.wikipedia.org_all-access_all-agents 2017-09-13      -1  2017   \n",
       "\n",
       "   Month  Week  Day  DayOfWeek       name locale    article      access  \\\n",
       "0      9    37   13          2  007_スペクター     ja  wikipedia  all-access   \n",
       "\n",
       "        agent  \n",
       "0  all-agents  "
      ]
     },
     "execution_count": 53,
     "metadata": {},
     "output_type": "execute_result"
    },
    {
     "name": "stdout",
     "output_type": "stream",
     "text": [
      "time: 8.11 ms\n"
     ]
    }
   ],
   "source": [
    "# Here is the prediction tables all done\n",
    "ptables[:1]"
   ]
  },
  {
   "cell_type": "markdown",
   "metadata": {},
   "source": [
    "## Start Joining all of the data together"
   ]
  },
  {
   "cell_type": "code",
   "execution_count": 54,
   "metadata": {},
   "outputs": [
    {
     "name": "stdout",
     "output_type": "stream",
     "text": [
      "time: 1.03 ms\n"
     ]
    }
   ],
   "source": [
    "# I want the length before I add in \n",
    "atspace=len(joined)"
   ]
  },
  {
   "cell_type": "code",
   "execution_count": 57,
   "metadata": {},
   "outputs": [
    {
     "name": "stdout",
     "output_type": "stream",
     "text": [
      "time: 1min 43s\n"
     ]
    },
    {
     "data": {
      "text/html": [
       "\n",
       "                <audio controls=\"controls\" autoplay=\"autoplay\">\n",
       "                    <source src=\"data:audio/wav;base64,UklGRl4RAABXQVZFZm10IBAAAAABAAEARKwAAIhYAQACABAAZGF0YToRAAAAAHgF7gpgEMkVKBt7IL4l8CoNMBQ1AjrVPotDIUiVTOZQEFUTWexcmmAaZGxnjWp8bThwv3IRdSx3D3m6eit8Yn1efh9/pX/uf/x/zn9lf79+333DfG173XkUeBN223Ntcclu8mvoaKxlQmKpXuRa9VbcUp1OOkqzRQxBRjxkN2kyVS0tKPEiph1MGOcSeQ0FCI0CFf2e9yryvOxY5//htdx711PSQc1HyGfDpL7/uXq1GbHcrMeo2qQYoYKdG5rjltyTCJFojv2LyYnLhwaGeoQogxGCNIGSgC2AA4AVgGOA7ICxgbGC7INhhQ+H9ogVi2qN9Y+1kqeVzJggnKSfVKMwpzWrY6+1syy4xLx8wVHGQctJ0GjVm9rg3zPlk+r972/15fpdANYFTAu8ECUWgxvVIBcmSCtkMGk1VjonP9pDbkjgTC5RVlVWWSxd12BUZKNnwGqsbWVw6XI3dU53LXnUekF8dH1tfip/q3/xf/t/yX9cf7J+zn2ufFR7wXn0d+91s3NBcZpuv2uyaHRlBmJqXqJasFaVUlRO7UllRbtA9DsQNxMy/izUJ5giSx3wF4sSHA2oBzACuPxA983xYOz95qXhW9wi1/zR7MzzxxXDU76xuS61z7CWrIOomaTaoEed4pmulquT2pA9jtaLpYmrh+qFYoQUgwCCJ4GKgCiAAoAYgGqA94DAgcWCA4R8hS6HGYk7i5SNIpDlktuVA5lbnOGflaNzp3yrq68BtHm4FL3OwaTGlsug0MHV9do64I/l7+pa8Mz1Qvu6ADMGqQsZEYEW3xsvIXAmnyu6ML41qTp4PypEu0grTXZRnFWZWWxdFGGOZNln9GrcbZFwEnNcdXB3S3nueld8h317fjR/sn/0f/p/xH9Sf6V+vH2ZfDt7pHnTd8t1i3MWcWtujWt8aDtlymErXmBaa1ZOUgpOoUkWRWtAoTu8Nr0xpix7Jz4i8ByVFy4SwAxLB9MBW/zj9nDxBOyh5krhAdzJ1qXRlsyfx8PCA75jueO0hrBPrD+oV6SboAydqpl5lnmTrJATjq+LgomMh86FSoQAg/CBG4GBgCSAAoAcgHGAA4HQgdiCG4SXhU2HO4lhi76NUJAWkxCWOpmVnB+g1aO3p8Kr9K9MtMe4ZL0fwvjG68v30BnWTtuV4OrlS+u38Cn2oPsYAZAGBgx1Ed0WOhyJIckm9ysQMRM2/DrJP3lECEl1Tb5R4VXcWaxdUWHIZBBoJ2sMbr5wOnOBdZF3aXkIe218mX2Jfj5/uH/2f/h/vn9If5d+q32DfCJ7hnmyd6Z1Y3PqcDxuWmtGaAFljWHsXR5aJlYGUsBNVUnHRBpATztnNmcxTywiJ+QhlRw5F9IRYwztBnUB/fuG9hPxqOtF5u/gqNtx1k7RQcxMx3HCs70VuZe0PbAIrPunFqRdoNCccplElkiTfpDojYiLXolsh7OFMoTsguCBD4F5gB+AAYAfgHmAD4HggeyCMoSzhWyHXomIi+iNfpBIk0SWcpnQnF2gFqT7pwisPbCXtBW5s71xwkzHQcxO0XHWqNvv4EXmqOsT8Yb2/ft1Ae0GYwzSETkXlRzkISInTyxnMWc2TzsaQMdEVUnATQZSJlYeWuxdjWEBZUZoWms8bupwY3OmdbJ3hnkie4N8q32Xfkh/vn/4f/Z/uH8+f4l+mX1tfAh7aXmRd4F1OnO+cAxuJ2sQaMhkUWGsXdxZ4VW+UXVNCEl5RMk//DoTNhAx9yvJJokhOhzdFnURBgyQBhgBoPsp9rfwS+vq5ZXgTtsZ1vfQ68v4xh/CZL3HuEy09K/Cq7en1aMfoJWcOpkQlhaTUJC+jWGLO4lNh5eFG4TYgtCBA4FxgByAAoAkgIGAG4HwgQCDSoTOhYyHgomvixOOrJB5k3mWqpkMnZugV6Q/qE+shrDjtGO5A77Dwp/Hlsyl0cnWAdxK4aHmBOxw8eP2W/zTAUsHwAwuEpUX8Bw+Insnpiy9Mbw2oTtrQBZFoUkKTk5Sa1ZgWiteymE7ZXxojWtrbhZxi3PLddN3pHk7e5l8vH2lflJ/xH/6f/R/sn80f3t+h31XfO56S3lwd1x1EnORcNxt9GrZZ45kFGFsXZlZnFV2UStNu0gqRHg/qTq+NbownytwJi8h3xuBFhkRqQszBroAQvvM9Vrw7+qP5Trg9drB1aDQlsukxs7BFL15uAG0q698q3OnlaPhn1ucA5nbleWSIpCUjTuLGYkuh3yFA4TFgsCB94BqgBiAAoAogIqAJ4EAghSDYoTqhauHpYnWiz2O2pCrk66W4plHndqgmaSDqJasz7AutbG5U74Vw/PH7Mz80SLXW9yl4f3mYOzN8UD3uPwwAqgHHA2LEvAXSx2YItQn/iwTMhA39Du7QGVF7UlUTpVSsFaiWmpeBmJ0ZbJov2uabkFxs3PvdfR3wXlUe658zn2yflx/yX/7f/F/q38qf21+dH1BfNR6LXlOdzd16XJlcKxtwGqjZ1Rk12AsXVZZVlUuUeBMbkjaQyc/VjppNWQwSCsXJtUggxslFrwQTAvWBV0A5fpv9f3vk+oz5eDfm9po1UnQQctRxnzBxLwsuLWzY681qzCnVKOknyCczJinlbWS9Y9qjRWL9ogPh2GF7IOxgrGB7IBjgBWAA4AtgJKANIERgiiDeoQGhsuHyYn9i2iOCJHck+OWG5qCnRih2qTHqNysGbF6tf+5pL5nw0fIQc1T0nvXtdz/4VjnvOwq8p73Ff2NAgUIeQ3nEkwYph3xIi0oVS1pMmQ3RjwMQbNFOkqdTtxS9VbkWqleQmKsZeho8mvJbm1x23MTdhR43Xlte8N8332/fmV/zn/8f+5/pX8ff15+Yn0rfLp6D3ksdxF1v3I4cHxtjWpsZxpkmmDsXBNZEFXmUJVMIUiLQ9U+AjoUNQ0w8Cq+JXsgKBvJFWAQ7gp4BQAAiPoS9aDvN+rY5IXfQtoQ1fPP7Mr+xSvBdbzft2uzGq/wqu2mFKNmn+ablJhzlYSSyI9Bje+K1IjxhkaF1YOegqKB4YBbgBKABIAygJuAQYEhgj2Dk4QjhuyH7YkljJOON5EOlBiXVJq+nVehHKULqSStY7HGtU269L66w5zIl82r0tPXD91a4rTnGe2H8vv3c/3rAmII1g1EE6gYAR5LI4UorS2/Mrk3mTxcQQFGhkrnTiRTOVcmW+hefmLlZR1pJGz4bphxA3Q3djV4+nmGe9h8733Mfm5/03/9f+t/nX8Uf09+T30UfJ968XgKd+t0lnILcEttWWo0Z+BjXGCsXNBYy1SdUEtM1Ec8Q4Q+rzm/NLcvmCplJSAgzRptFQMQkQobBaP/Kvq09ETv2+l95Cvf6dm41JzPl8qqxdnAJryStyCz0q6qqqqm1KIpn6ybXZhAlVSSm48XjcmKsojThiyFv4OMgpOB1oBVgA+ABYA3gKSAToEyglKDrIQ/hgyIEYpNjL+OZpFBlE6XjJr6nZahXqVQqWutrLETtpu6Rb8MxPDI7c0C0yzYaN214hDode3k8lj40P1IA8AIMw6gEwMZWx6lI94oBC4UMw046zytQU9G0koxT2pTfVdnWyZfuWIeZlJpVWwmb8NxKnRbdlV4Fnqee+x8AH7ZfnZ/2H/+f+h/ln8Jf0B+O339e4R60njndsV0bHLebxttJWr9ZqVjH2BrXI1YhFRVUP9Lh0fsQjI+XDlqNGAvPyoLJcYfcRoRFaYPNAq+BEb/zflX9Ofuf+kh5NHekNlh1EbPQspXxYjA1rtFt9Wyiq5kqmemlKLsnnKbJ5gMlSSSb4/ujKSKkIi1hhKFqYN5goWBzIBOgAyABoA8gK6AW4FEgmeDxYRchi2INYp1jOqOlZFzlISXxZo2ntWhoKWVqbKt9rFftuq6lb9fxETJQ85a04XYwt0Q42vo0u1A87X4Lf6lAx0JkA78E18Zth7/IzcpWy5qM2E4PT39QZ1GHUt6T7FTwVepW2Vf9GJWZodph2xUb+1xUXR+dnR4Mnq2ewB9EH7lfn9/3H/+f+R/j3/9fjB+KH3le2l6s3jFdp90QnKwb+ps8GnGZmtj4V8rXElYPlQMULRLOUecQuE9CDkVNAkv5ymyJGsfFhq1FEkP1wlgBOj+cPn684vuI+nG43feN9kJ1PDO7ckExTfAh7v4touyQq4fqiSmVKKvnjib8JfZlPSRQo/GjH+Kb4iXhviEk4NngneBwoBIgAqACIBCgLiAaYFVgn2D3oR6hk6IWoqdjBaPxJGmlLqX/5pznhSi4qXaqfqtQLKrtjm75r+xxJnJmc6x097YHN5r48foLu6d8xP5i/4DBHoJ7Q5YFLsZER9YJI8psi6/M7Q4jz1NQutGaUvDT/hTBVjqW6NfMGOOZrxpuGyCbxhyeHSidpR4TXrOexR9IH7xfod/4X//f+F/h3/xfiB+FH3Oe016lHiidnh0GHKCb7hsvGmOZjBjo1/qWwVY+FPDT2lL60ZNQo89tDi/M7IujylYJBEfuxlYFO0OegkDBIv+E/md8y7ux+hr4xze3tix05nOmcmxxOa/OburtkCy+q3aqeKlFKJznv+aupemlMSRFo+djFqKToh6ht6EfYNVgmmBuIBCgAiACoBIgMKAd4FngpOD+ISXhm+If4rGjEKP9JHZlPCXOJuvnlSiJKYfqkKui7L4toe7N8AExe3J8M4J1DfZd97G4yPpi+7683D56P5gBNcJSQ+1FBYaax+yJOcpCS8VNAg54T2cQjlHtEsMUD5USVgrXOFfa2PGZvBp6mywb0Jyn3TFdrN4aXrleyh9MH79fo9/5H/+f9x/f3/lfhB+AH22ezJ6dHh+dlF07XFUb4dsh2lWZvRiZV+pW8FXsVN6Tx1LnUb9QT09YThqM1suNyn/I7YeXxn8E5AOHQmlAy3+tfhA89Lta+gQ48Ldhdha00PORMlfxJW/6rpftvaxsq2VqaCl1aE2nsWahJdzlJWR6o51jDWKLYhchsWEZ4NEgluBroA8gAaADIBOgMyAhYF5gqmDEoW1hpCIpIrujG+PJJIMlSeYcpvsnpSiZ6Zkqoqu1bJFt9a7iMBXxULKRs9h1JDZ0d4h5H/p5+5X9M35Rv++BDQKpg8RFXEaxh8LJT8qYC9qNFw5Mj7sQodH/0tVUIRUjVhrXB9gpWP9ZiVqG23eb2xyxXTndtJ4hHr9ezt9QH4Jf5Z/6H/+f9h/dn/ZfgB+7HyeexZ6VXhbdip0w3Emb1VsUmkeZrliJl9nW31XalMxT9JKT0atQes8DTgUMwQu3iilI1seAxmgEzMOwAhIA9D9WPjk8nXtEOi14mjdLNgC0+3N8MgMxEW/m7oTtqyxa61QqV6llqH6nYyaTpdBlGaRv45NjBGKDIg/hqyEUoMygk6BpIA3gAWAD4BVgNaAk4GMgr+DLIXThrKIyYoXjZuPVJJAlV2YrJspn9SiqqaqqtKuILOStya82cCqxZfKnM+41OnZK9995NvpRO+09Cr6o/8bBZEKAxBtFc0aICBlJZgqty+/NK85hD48Q9RHS0ydUMtU0FisXFxg4GM0Z1lqS20LcJZy63QKd/F4n3oUfE99T34Uf51/63/9f9N/bn/Mfu992HyGe/p5NXg3dgN0mHH4biRsHWnlZX5i6F4mWzlXJFPnToZKAUZcQZk8uTe/Mq0thShLIwEeqBhEE9YNYgjrAnP9+/eH8hnttOda4g/d09er0pfNnMi6w/S+TbrGtWOxJK0LqRylV6G+nVSaGJcOlDeRk44ljO2J7IcjhpOEPYMhgkGBm4AygASAEoBbgOGAooGegtWDRoXxhtSI74pBjciPhJJzlZSY5ptmnxSj7abwqhqva7Pft3W8K8H+xezK888Q1ULahd/Y5DfqoO8S9Yj6AAA=\" type=\"audio/wav\" />\n",
       "                    Your browser does not support the audio element.\n",
       "                </audio>\n",
       "              "
      ],
      "text/plain": [
       "<IPython.lib.display.Audio object>"
      ]
     },
     "metadata": {},
     "output_type": "display_data"
    },
    {
     "data": {
      "text/html": [
       "<style>audio{display:none}</style>"
      ],
      "text/plain": [
       "<IPython.core.display.HTML object>"
      ]
     },
     "metadata": {},
     "output_type": "display_data"
    }
   ],
   "source": [
    "# Appends the prediction everything to tables; This was easier to make sure everything that happened to one\n",
    "# happened to the other\n",
    "pickle.dump(joined, open('joined.pickle', 'wb'))\n",
    "if (SubmissionRun):\n",
    "    joined=joined.append(ptables)"
   ]
  },
  {
   "cell_type": "code",
   "execution_count": 60,
   "metadata": {},
   "outputs": [
    {
     "data": {
      "text/plain": [
       "Index(['Page', 'Date', 'Visits', 'Year', 'Month', 'Week', 'Day', 'DayOfWeek',\n",
       "       'name', 'locale', 'article', 'access', 'agent'],\n",
       "      dtype='object')"
      ]
     },
     "execution_count": 60,
     "metadata": {},
     "output_type": "execute_result"
    },
    {
     "name": "stdout",
     "output_type": "stream",
     "text": [
      "time: 255 ms\n"
     ]
    }
   ],
   "source": [
    "# Sort everything by date\n",
    "joined[\"Date\"] = pd.to_datetime(joined.Date)\n",
    "# what are my columns\n",
    "joined.columns"
   ]
  },
  {
   "cell_type": "code",
   "execution_count": 62,
   "metadata": {},
   "outputs": [
    {
     "name": "stdout",
     "output_type": "stream",
     "text": [
      "time: 11.7 ms\n"
     ]
    }
   ],
   "source": [
    "# the dictionary of cateogry variables; weights are placed for reasons\n",
    "# These are the variables I felt were important. I added more weight depending on how important they were \n",
    "# for correlation. I don't understand it too much.\n",
    "# Page\tDate\tVisits\tYear\tMonth\tWeek\tDay\tDayOfWeek\tname\tlocale\tarticle\taccess\tagent\n",
    "cat_var_dict = {'Year' : 1, 'Month' :6, \n",
    "                'Week': 2, 'Day': 3, 'DayOfWeek':10,'locale':6,'agent':7, 'article':8, 'name':30,\n",
    "                'access':9}\n",
    "# These values should have no bearing on the model\n",
    "#'Visits': 15,'Page': 20,'Date': 10,"
   ]
  },
  {
   "cell_type": "code",
   "execution_count": 63,
   "metadata": {},
   "outputs": [
    {
     "name": "stdout",
     "output_type": "stream",
     "text": [
      "time: 15.2 ms\n"
     ]
    }
   ],
   "source": [
    "# Don't understand this one yet\n",
    "cat_vars = [o[0] for o in \n",
    "            sorted(cat_var_dict.items(), key=operator.itemgetter(1), reverse=True)]"
   ]
  },
  {
   "cell_type": "code",
   "execution_count": 64,
   "metadata": {},
   "outputs": [
    {
     "name": "stdout",
     "output_type": "stream",
     "text": [
      "time: 9.69 ms\n"
     ]
    }
   ],
   "source": [
    "# I dont really have values that are much different\n",
    "contin_vars = {'Year'}\n",
    "#contin_vars = {'Year','Date','Visits'}"
   ]
  },
  {
   "cell_type": "code",
   "execution_count": 65,
   "metadata": {},
   "outputs": [
    {
     "name": "stdout",
     "output_type": "stream",
     "text": [
      "time: 22.5 s\n"
     ]
    }
   ],
   "source": [
    "for v in contin_vars: joined.loc[joined[v].isnull(), v] = 0\n",
    "#for v in cat_vars: joined.loc[joined[v].isnull(), v] = \"\"\n"
   ]
  },
  {
   "cell_type": "code",
   "execution_count": 66,
   "metadata": {},
   "outputs": [
    {
     "name": "stdout",
     "output_type": "stream",
     "text": [
      "time: 12 ms\n"
     ]
    }
   ],
   "source": [
    "cat_maps = [(o, LabelEncoder()) for o in cat_vars]\n",
    "contin_maps = [([o], StandardScaler()) for o in contin_vars]"
   ]
  },
  {
   "cell_type": "code",
   "execution_count": 67,
   "metadata": {},
   "outputs": [
    {
     "data": {
      "text/plain": [
       "10"
      ]
     },
     "execution_count": 67,
     "metadata": {},
     "output_type": "execute_result"
    },
    {
     "name": "stdout",
     "output_type": "stream",
     "text": [
      "time: 5min 10s\n"
     ]
    },
    {
     "data": {
      "text/html": [
       "\n",
       "                <audio controls=\"controls\" autoplay=\"autoplay\">\n",
       "                    <source src=\"data:audio/wav;base64,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\" type=\"audio/wav\" />\n",
       "                    Your browser does not support the audio element.\n",
       "                </audio>\n",
       "              "
      ],
      "text/plain": [
       "<IPython.lib.display.Audio object>"
      ]
     },
     "metadata": {},
     "output_type": "display_data"
    },
    {
     "data": {
      "text/html": [
       "<style>audio{display:none}</style>"
      ],
      "text/plain": [
       "<IPython.core.display.HTML object>"
      ]
     },
     "metadata": {},
     "output_type": "display_data"
    }
   ],
   "source": [
    "# maps all the important variables out\n",
    "cat_mapper = DataFrameMapper(cat_maps)\n",
    "cat_map_fit = cat_mapper.fit(joined)\n",
    "cat_cols = len(cat_map_fit.features)\n",
    "cat_cols"
   ]
  },
  {
   "cell_type": "code",
   "execution_count": 68,
   "metadata": {},
   "outputs": [
    {
     "name": "stderr",
     "output_type": "stream",
     "text": [
      "/home/jd/anaconda3/lib/python3.5/site-packages/sklearn/utils/validation.py:429: DataConversionWarning: Data with input dtype int64 was converted to float64 by StandardScaler.\n",
      "  warnings.warn(msg, _DataConversionWarning)\n"
     ]
    },
    {
     "data": {
      "text/plain": [
       "1"
      ]
     },
     "execution_count": 68,
     "metadata": {},
     "output_type": "execute_result"
    },
    {
     "name": "stdout",
     "output_type": "stream",
     "text": [
      "time: 622 ms\n"
     ]
    }
   ],
   "source": [
    "# maps all contin out\n",
    "contin_mapper = DataFrameMapper(contin_maps)\n",
    "contin_map_fit = contin_mapper.fit(joined)\n",
    "contin_cols = len(contin_map_fit.features)\n",
    "contin_cols"
   ]
  },
  {
   "cell_type": "code",
   "execution_count": 69,
   "metadata": {},
   "outputs": [
    {
     "name": "stdout",
     "output_type": "stream",
     "text": [
      "time: 65.3 ms\n"
     ]
    }
   ],
   "source": [
    "# We start saving these things that took a long time to train\n",
    "pickle.dump(contin_map_fit, open('contin_maps.pickle', 'wb'))\n",
    "pickle.dump(cat_map_fit, open('cat_maps.pickle', 'wb'))"
   ]
  },
  {
   "cell_type": "code",
   "execution_count": 70,
   "metadata": {},
   "outputs": [
    {
     "data": {
      "text/plain": [
       "[49176, 7, 3, 4, 2, 10, 12, 31, 52, 2]"
      ]
     },
     "execution_count": 70,
     "metadata": {},
     "output_type": "execute_result"
    },
    {
     "name": "stdout",
     "output_type": "stream",
     "text": [
      "time: 2.04 ms\n"
     ]
    }
   ],
   "source": [
    "[len(o[1].classes_) for o in cat_map_fit.features]"
   ]
  },
  {
   "cell_type": "markdown",
   "metadata": {},
   "source": [
    "## Sample Data"
   ]
  },
  {
   "cell_type": "code",
   "execution_count": 71,
   "metadata": {},
   "outputs": [
    {
     "name": "stdout",
     "output_type": "stream",
     "text": [
      "time: 5.6 ms\n"
     ]
    }
   ],
   "source": [
    "#joined = joined[joined.Visits!=0]\n",
    "n = len(joined)"
   ]
  },
  {
   "cell_type": "code",
   "execution_count": 72,
   "metadata": {},
   "outputs": [
    {
     "name": "stdout",
     "output_type": "stream",
     "text": [
      "time: 3.25 s\n"
     ]
    }
   ],
   "source": [
    "samp_size = 100000\n",
    "if (samp_size>n):\n",
    "    samp_size = n\n",
    "np.random.seed(42)\n",
    "idxs = sorted(np.random.choice(n, samp_size, replace=False))"
   ]
  },
  {
   "cell_type": "code",
   "execution_count": 73,
   "metadata": {},
   "outputs": [
    {
     "name": "stdout",
     "output_type": "stream",
     "text": [
      "time: 352 ms\n"
     ]
    }
   ],
   "source": [
    "joined_samp = joined.iloc[idxs].set_index(\"Date\")\n",
    "joined_samp = joined.iloc[idxs].set_index(\"Page\")"
   ]
  },
  {
   "cell_type": "code",
   "execution_count": 74,
   "metadata": {},
   "outputs": [
    {
     "name": "stdout",
     "output_type": "stream",
     "text": [
      "time: 4.08 s\n"
     ]
    }
   ],
   "source": [
    "samp_size = n\n",
    "joined_samp = joined.set_index(\"Date\")\n",
    "#joined_samp = joined.set_index(\"Page\")"
   ]
  },
  {
   "cell_type": "markdown",
   "metadata": {},
   "source": [
    "### Save values for validation"
   ]
  },
  {
   "cell_type": "code",
   "execution_count": 76,
   "metadata": {},
   "outputs": [
    {
     "data": {
      "text/plain": [
       "(56864696, 14216174, 8993906)"
      ]
     },
     "execution_count": 76,
     "metadata": {},
     "output_type": "execute_result"
    },
    {
     "name": "stdout",
     "output_type": "stream",
     "text": [
      "time: 22.6 ms\n"
     ]
    }
   ],
   "source": [
    "# Actual Splitting of the data\n",
    "# joined_train = our training data\n",
    "# joined_valid = our validation \n",
    "# joined_predict= the values we will be predicting; \n",
    "\n",
    "# If its a submission run we will use the prediction data. Otherwise we will make the prediction value \n",
    "if (SubmissionRun):\n",
    "    # Breaks the training size into the valid and train sets\n",
    "    # atspace\n",
    "    train_ratio = 0.8\n",
    "    train_size = int(atspace * train_ratio)\n",
    "    ##\n",
    "    joined_train = joined_samp[:train_size]\n",
    "    joined_valid = joined_samp[train_size:atspace]\n",
    "    joined_predict= joined_samp[atspace:]\n",
    "else:\n",
    "    # if its not a submission I have to spend more time cutting up more of the valid data\n",
    "    # Otherwise the same thing\n",
    "    if (tableNumMod==0):\n",
    "        tableNumMod= 145063\n",
    "    train_size= len(joined_samp)-tableNumMod*120\n",
    "    train_size1= len(joined_samp)-tableNumMod*60\n",
    "    print (train_size,train_size1)\n",
    "    joined_train = joined_samp[:train_size]\n",
    "    joined_valid = joined_samp[train_size:train_size1]\n",
    "    # in hindsight I should call this test predictions. \n",
    "    joined_predict= joined_samp[train_size1:]\n",
    "len(joined_train),len(joined_valid),  len(joined_predict)"
   ]
  },
  {
   "cell_type": "code",
   "execution_count": 78,
   "metadata": {},
   "outputs": [
    {
     "name": "stdout",
     "output_type": "stream",
     "text": [
      "time: 26.9 s\n"
     ]
    }
   ],
   "source": [
    "# Resets the index for the data set; and ensures there is one\n",
    "joined_train=joined_train.reset_index(level=None)\n",
    "joined_valid=joined_valid.reset_index(level=None)\n",
    "joined_predict=joined_predict.reset_index(level=None)"
   ]
  },
  {
   "cell_type": "code",
   "execution_count": 79,
   "metadata": {},
   "outputs": [
    {
     "name": "stdout",
     "output_type": "stream",
     "text": [
      "time: 4min 58s\n"
     ]
    },
    {
     "data": {
      "text/html": [
       "\n",
       "                <audio controls=\"controls\" autoplay=\"autoplay\">\n",
       "                    <source src=\"data:audio/wav;base64,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\" type=\"audio/wav\" />\n",
       "                    Your browser does not support the audio element.\n",
       "                </audio>\n",
       "              "
      ],
      "text/plain": [
       "<IPython.lib.display.Audio object>"
      ]
     },
     "metadata": {},
     "output_type": "display_data"
    },
    {
     "data": {
      "text/html": [
       "<style>audio{display:none}</style>"
      ],
      "text/plain": [
       "<IPython.core.display.HTML object>"
      ]
     },
     "metadata": {},
     "output_type": "display_data"
    }
   ],
   "source": [
    "# 9 min\n",
    "# I do not understand what is being output\n",
    "cat_map_train = cat_preproc(joined_train)"
   ]
  },
  {
   "cell_type": "code",
   "execution_count": 80,
   "metadata": {},
   "outputs": [
    {
     "name": "stdout",
     "output_type": "stream",
     "text": [
      "time: 1min 8s\n"
     ]
    },
    {
     "data": {
      "text/html": [
       "\n",
       "                <audio controls=\"controls\" autoplay=\"autoplay\">\n",
       "                    <source src=\"data:audio/wav;base64,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\" type=\"audio/wav\" />\n",
       "                    Your browser does not support the audio element.\n",
       "                </audio>\n",
       "              "
      ],
      "text/plain": [
       "<IPython.lib.display.Audio object>"
      ]
     },
     "metadata": {},
     "output_type": "display_data"
    },
    {
     "data": {
      "text/html": [
       "<style>audio{display:none}</style>"
      ],
      "text/plain": [
       "<IPython.core.display.HTML object>"
      ]
     },
     "metadata": {},
     "output_type": "display_data"
    }
   ],
   "source": [
    "#strips off the headers to prepare for data\n",
    "cat_map_valid = cat_preproc(joined_valid)"
   ]
  },
  {
   "cell_type": "code",
   "execution_count": 81,
   "metadata": {},
   "outputs": [
    {
     "name": "stderr",
     "output_type": "stream",
     "text": [
      "/home/jd/anaconda3/lib/python3.5/site-packages/sklearn/utils/validation.py:429: DataConversionWarning: Data with input dtype int64 was converted to float64 by StandardScaler.\n",
      "  warnings.warn(msg, _DataConversionWarning)\n"
     ]
    },
    {
     "name": "stdout",
     "output_type": "stream",
     "text": [
      "time: 716 ms\n"
     ]
    }
   ],
   "source": [
    "#completes preporcessing\n",
    "contin_map_train = contin_preproc(joined_train)\n",
    "contin_map_valid = contin_preproc(joined_valid)\n",
    "contin_map_predict = contin_preproc(joined_predict)"
   ]
  },
  {
   "cell_type": "code",
   "execution_count": 82,
   "metadata": {},
   "outputs": [
    {
     "ename": "MemoryError",
     "evalue": "",
     "output_type": "error",
     "traceback": [
      "\u001b[0;31m---------------------------------------------------------------------------\u001b[0m",
      "\u001b[0;31mMemoryError\u001b[0m                               Traceback (most recent call last)",
      "\u001b[0;32m<ipython-input-82-86ca41e1f6de>\u001b[0m in \u001b[0;36m<module>\u001b[0;34m()\u001b[0m\n\u001b[0;32m----> 1\u001b[0;31m \u001b[0mcat_map_train\u001b[0m \u001b[0;34m=\u001b[0m\u001b[0mcat_preproc\u001b[0m\u001b[0;34m(\u001b[0m\u001b[0mjoined_train\u001b[0m\u001b[0;34m)\u001b[0m\u001b[0;34m\u001b[0m\u001b[0m\n\u001b[0m\u001b[1;32m      2\u001b[0m \u001b[0mcat_map_valid\u001b[0m \u001b[0;34m=\u001b[0m\u001b[0mcat_preproc\u001b[0m\u001b[0;34m(\u001b[0m\u001b[0mjoined_valid\u001b[0m\u001b[0;34m)\u001b[0m\u001b[0;34m\u001b[0m\u001b[0m\n",
      "\u001b[0;32m<ipython-input-16-cc5758940e6c>\u001b[0m in \u001b[0;36mcat_preproc\u001b[0;34m(dat)\u001b[0m\n\u001b[1;32m      1\u001b[0m \u001b[0;31m#Used in validation\u001b[0m\u001b[0;34m\u001b[0m\u001b[0;34m\u001b[0m\u001b[0m\n\u001b[1;32m      2\u001b[0m \u001b[0;32mdef\u001b[0m \u001b[0mcat_preproc\u001b[0m\u001b[0;34m(\u001b[0m\u001b[0mdat\u001b[0m\u001b[0;34m)\u001b[0m\u001b[0;34m:\u001b[0m\u001b[0;34m\u001b[0m\u001b[0m\n\u001b[0;32m----> 3\u001b[0;31m     \u001b[0;32mreturn\u001b[0m \u001b[0mcat_map_fit\u001b[0m\u001b[0;34m.\u001b[0m\u001b[0mtransform\u001b[0m\u001b[0;34m(\u001b[0m\u001b[0mdat\u001b[0m\u001b[0;34m)\u001b[0m\u001b[0;34m.\u001b[0m\u001b[0mastype\u001b[0m\u001b[0;34m(\u001b[0m\u001b[0mnp\u001b[0m\u001b[0;34m.\u001b[0m\u001b[0mint64\u001b[0m\u001b[0;34m)\u001b[0m\u001b[0;34m\u001b[0m\u001b[0m\n\u001b[0m",
      "\u001b[0;32m/home/jd/anaconda3/lib/python3.5/site-packages/sklearn_pandas/dataframe_mapper.py\u001b[0m in \u001b[0;36mtransform\u001b[0;34m(self, X)\u001b[0m\n\u001b[1;32m    289\u001b[0m                 \u001b[0mstacked\u001b[0m \u001b[0;34m=\u001b[0m \u001b[0mstacked\u001b[0m\u001b[0;34m.\u001b[0m\u001b[0mtoarray\u001b[0m\u001b[0;34m(\u001b[0m\u001b[0;34m)\u001b[0m\u001b[0;34m\u001b[0m\u001b[0m\n\u001b[1;32m    290\u001b[0m         \u001b[0;32melse\u001b[0m\u001b[0;34m:\u001b[0m\u001b[0;34m\u001b[0m\u001b[0m\n\u001b[0;32m--> 291\u001b[0;31m             \u001b[0mstacked\u001b[0m \u001b[0;34m=\u001b[0m \u001b[0mnp\u001b[0m\u001b[0;34m.\u001b[0m\u001b[0mhstack\u001b[0m\u001b[0;34m(\u001b[0m\u001b[0mextracted\u001b[0m\u001b[0;34m)\u001b[0m\u001b[0;34m\u001b[0m\u001b[0m\n\u001b[0m\u001b[1;32m    292\u001b[0m \u001b[0;34m\u001b[0m\u001b[0m\n\u001b[1;32m    293\u001b[0m         \u001b[0;32mif\u001b[0m \u001b[0;32mnot\u001b[0m \u001b[0mself\u001b[0m\u001b[0;34m.\u001b[0m\u001b[0mdf_out\u001b[0m\u001b[0;34m:\u001b[0m\u001b[0;34m\u001b[0m\u001b[0m\n",
      "\u001b[0;32m/home/jd/.local/lib/python3.5/site-packages/numpy/core/shape_base.py\u001b[0m in \u001b[0;36mhstack\u001b[0;34m(tup)\u001b[0m\n\u001b[1;32m    286\u001b[0m         \u001b[0;32mreturn\u001b[0m \u001b[0m_nx\u001b[0m\u001b[0;34m.\u001b[0m\u001b[0mconcatenate\u001b[0m\u001b[0;34m(\u001b[0m\u001b[0marrs\u001b[0m\u001b[0;34m,\u001b[0m \u001b[0;36m0\u001b[0m\u001b[0;34m)\u001b[0m\u001b[0;34m\u001b[0m\u001b[0m\n\u001b[1;32m    287\u001b[0m     \u001b[0;32melse\u001b[0m\u001b[0;34m:\u001b[0m\u001b[0;34m\u001b[0m\u001b[0m\n\u001b[0;32m--> 288\u001b[0;31m         \u001b[0;32mreturn\u001b[0m \u001b[0m_nx\u001b[0m\u001b[0;34m.\u001b[0m\u001b[0mconcatenate\u001b[0m\u001b[0;34m(\u001b[0m\u001b[0marrs\u001b[0m\u001b[0;34m,\u001b[0m \u001b[0;36m1\u001b[0m\u001b[0;34m)\u001b[0m\u001b[0;34m\u001b[0m\u001b[0m\n\u001b[0m\u001b[1;32m    289\u001b[0m \u001b[0;34m\u001b[0m\u001b[0m\n\u001b[1;32m    290\u001b[0m \u001b[0;32mdef\u001b[0m \u001b[0mstack\u001b[0m\u001b[0;34m(\u001b[0m\u001b[0marrays\u001b[0m\u001b[0;34m,\u001b[0m \u001b[0maxis\u001b[0m\u001b[0;34m=\u001b[0m\u001b[0;36m0\u001b[0m\u001b[0;34m)\u001b[0m\u001b[0;34m:\u001b[0m\u001b[0;34m\u001b[0m\u001b[0m\n",
      "\u001b[0;31mMemoryError\u001b[0m: "
     ]
    },
    {
     "name": "stdout",
     "output_type": "stream",
     "text": [
      "time: 4min 47s\n"
     ]
    },
    {
     "data": {
      "text/html": [
       "\n",
       "                <audio controls=\"controls\" autoplay=\"autoplay\">\n",
       "                    <source src=\"data:audio/wav;base64,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\" type=\"audio/wav\" />\n",
       "                    Your browser does not support the audio element.\n",
       "                </audio>\n",
       "              "
      ],
      "text/plain": [
       "<IPython.lib.display.Audio object>"
      ]
     },
     "metadata": {},
     "output_type": "display_data"
    },
    {
     "data": {
      "text/html": [
       "<style>audio{display:none}</style>"
      ],
      "text/plain": [
       "<IPython.core.display.HTML object>"
      ]
     },
     "metadata": {},
     "output_type": "display_data"
    }
   ],
   "source": [
    "#completes preporcessing; dont need to do it for predict.\n",
    "cat_map_train =cat_preproc(joined_train)\n",
    "cat_map_valid =cat_preproc(joined_valid)"
   ]
  },
  {
   "cell_type": "code",
   "execution_count": null,
   "metadata": {
    "collapsed": true
   },
   "outputs": [],
   "source": [
    "cat_map_predict = cat_preproc(joined_predict)"
   ]
  },
  {
   "cell_type": "code",
   "execution_count": null,
   "metadata": {
    "collapsed": true
   },
   "outputs": [],
   "source": [
    "y_train_orig = joined_train.Visits\n",
    "y_valid_orig = joined_valid.Visits\n",
    "y_predict_orig = joined_predict.Visits"
   ]
  },
  {
   "cell_type": "code",
   "execution_count": null,
   "metadata": {
    "collapsed": true
   },
   "outputs": [],
   "source": [
    "max_log_y = np.max(np.log(joined_samp.Visits))\n",
    "y_train = np.log(y_train_orig)/max_log_y\n",
    "y_valid = np.log(y_valid_orig)/max_log_y\n",
    "# I dont think we wan to do this... but im going to anyway\n",
    "y_predict = np.log(y_predict_orig)/max_log_y"
   ]
  },
  {
   "cell_type": "code",
   "execution_count": null,
   "metadata": {
    "collapsed": true
   },
   "outputs": [],
   "source": [
    "#\n",
    "map_train = split_cols(cat_map_train) + [contin_map_train]\n",
    "map_valid = split_cols(cat_map_valid) + [contin_map_valid]\n",
    "map_predict = split_cols(cat_map_predict) + [contin_map_predict]"
   ]
  },
  {
   "cell_type": "code",
   "execution_count": null,
   "metadata": {
    "collapsed": true
   },
   "outputs": [],
   "source": [
    "#\n",
    "map_train = split_cols(cat_map_train) + split_cols(contin_map_train)\n",
    "map_valid = split_cols(cat_map_valid) + split_cols(contin_map_valid)\n",
    "map_predict = split_cols(cat_map_predict) + split_cols(contin_map_predict)"
   ]
  },
  {
   "cell_type": "code",
   "execution_count": null,
   "metadata": {
    "collapsed": true
   },
   "outputs": [],
   "source": [
    "cat_map_info(cat_map_fit.features[1])"
   ]
  },
  {
   "cell_type": "code",
   "execution_count": null,
   "metadata": {
    "collapsed": true
   },
   "outputs": [],
   "source": [
    "contin_inp = Input((contin_cols,), name='contin')\n",
    "contin_out = Dense(contin_cols*10, activation='relu', name='contin_d')(contin_inp)\n",
    "#contin_out = BatchNormalization()(contin_out)"
   ]
  },
  {
   "cell_type": "markdown",
   "metadata": {},
   "source": [
    "## Save things into pickles\n",
    "Everything after the pickles was very unstable so I needed to save all the information. "
   ]
  },
  {
   "cell_type": "code",
   "execution_count": null,
   "metadata": {
    "collapsed": true
   },
   "outputs": [],
   "source": [
    "pickle.dump(map_train, open('map_train.pickle', 'wb'))\n",
    "pickle.dump(y_train, open('y_train.pickle', 'wb'))"
   ]
  },
  {
   "cell_type": "code",
   "execution_count": null,
   "metadata": {
    "collapsed": true
   },
   "outputs": [],
   "source": [
    "pickle.dump(map_valid, open('map_valid.pickle', 'wb'))\n",
    "pickle.dump(y_valid, open('y_valid.pickle', 'wb'))"
   ]
  },
  {
   "cell_type": "code",
   "execution_count": null,
   "metadata": {
    "collapsed": true
   },
   "outputs": [],
   "source": [
    "pickle.dump(map_predict, open('map_predict.pickle', 'wb'))\n",
    "pickle.dump(y_predict, open('y_predict.pickle', 'wb'))"
   ]
  },
  {
   "cell_type": "code",
   "execution_count": null,
   "metadata": {
    "collapsed": true
   },
   "outputs": [],
   "source": [
    "pickle.dump(joined_train, open('joined_train.pickle', 'wb'))"
   ]
  },
  {
   "cell_type": "code",
   "execution_count": null,
   "metadata": {
    "collapsed": true
   },
   "outputs": [],
   "source": [
    "pickle.dump(joined_valid, open('joined_valid.pickle', 'wb'))\n",
    "pickle.dump(joined_predict, open('joined_predict.pickle', 'wb'))"
   ]
  },
  {
   "cell_type": "code",
   "execution_count": null,
   "metadata": {
    "collapsed": true
   },
   "outputs": [],
   "source": [
    "pickle.dump(contin_cols, open('contin_cols.pickle', 'wb'))"
   ]
  },
  {
   "cell_type": "code",
   "execution_count": null,
   "metadata": {
    "collapsed": true
   },
   "outputs": [],
   "source": [
    "pickle.dump(max_log_y, open('max_log_y.pickle', 'wb'))\n",
    "pickle.dump(y_train_orig, open('y_train_orig.pickle', 'wb'))"
   ]
  },
  {
   "cell_type": "markdown",
   "metadata": {},
   "source": [
    "## Start Building Models"
   ]
  },
  {
   "cell_type": "markdown",
   "metadata": {},
   "source": [
    "# ***Everything Below here was abandoned; Please look at Webtraffic-JustTraining-Final for the rest of the code.***"
   ]
  },
  {
   "cell_type": "code",
   "execution_count": null,
   "metadata": {
    "collapsed": true
   },
   "outputs": [],
   "source": [
    "import keras.backend as K\n",
    "\n",
    "def customLoss(yTrue,yPred):\n",
    "    return K.sum(K.log(yTrue) - K.log(yPred))\n",
    "\n",
    "def smape1(y_pred, y_true):\n",
    "    denominator = y_true + y_pred\n",
    "    diff = np.abs(y_true - y_pred) / denominator\n",
    "    diff[denominator == 0] = 0\n",
    "    return 200 * np.nanmean(diff, axis=0)\n",
    "\n",
    "def smape(y_pred, y_true):\n",
    "    K.denominator = y_true + y_pred\n",
    "    K.diff = np.abs(y_true - y_pred) / K.denominator\n",
    "    #K.diff[K.denominator == 0] = 0\n",
    "    return 200 * (K.diff)\n",
    "\n",
    "def smape_fast( y_pred, y_true ): # y_true= y_valid_orig\n",
    "    out = 0\n",
    "    for i in range(y_true.shape[0]):\n",
    "        a = y_true[i]\n",
    "        b = y_pred[i]\n",
    "        c = a+b\n",
    "        if c == 0:\n",
    "            continue\n",
    "        out += math.fabs(a - b) / c\n",
    "    out *= (200.0 / y_true.shape[0])\n",
    "    return out\n",
    "\n",
    "def smape_fast1( y_true, y_pred ): # y_true= y_valid_orig\n",
    "    K.out = 0\n",
    "    hold= len(y_valid_orig[0])\n",
    "    print (y_true)\n",
    "    for i in range(hold):\n",
    "        K.a = y_true[i]\n",
    "        K.b = y_pred[i]\n",
    "        K.c = K.a+K.b\n",
    "        if c == 0:\n",
    "            continue\n",
    "        K.out += int(K.math.fabs(K.a - K.b) / K.c)\n",
    "    K.out *= (200.0 / y_true.shape[0])\n",
    "    return K.out"
   ]
  },
  {
   "cell_type": "code",
   "execution_count": null,
   "metadata": {
    "collapsed": true
   },
   "outputs": [],
   "source": [
    "def sMAPE(y_true, y_pred):\n",
    "    #Symmetric mean absolute percentage error\n",
    "    #Should this be 200?\n",
    "    return 200 * K.mean(K.abs(y_pred - y_true) / (K.abs(y_pred) + K.abs(y_true)), axis=-1)\n",
    "\n",
    "def mean_signed_difference(y_true, y_pred):\n",
    "    #True MSD does not have abs() but we need to always minimize this function\n",
    "    return K.abs(K.sum((y_pred - y_true)/y_pred.ndim, axis=-1))"
   ]
  },
  {
   "cell_type": "code",
   "execution_count": null,
   "metadata": {
    "collapsed": true
   },
   "outputs": [],
   "source": [
    "embs = [get_emb(feat) for feat in cat_map_fit.features]\n",
    "#conts = [get_contin(feat) for feat in contin_map_fit.features]\n",
    "#contin_d = [d for inp,d in conts]\n",
    "x = merge([emb for inp,emb in embs] + [contin_out], mode='concat')\n",
    "#x = merge([emb for inp,emb in embs] + contin_d, mode='concat')\n",
    "\n",
    "x = Dropout(0.04)(x)\n",
    "x = Dense(1000, activation='relu', init='uniform')(x)\n",
    "x = Dense(500, activation='relu', init='uniform')(x)\n",
    "x = Dropout(0.4)(x)\n",
    "x = Dense(1, activation='sigmoid')(x)\n",
    "\n",
    "model = Model([inp for inp,emb in embs] + [contin_inp], x)\n",
    "#model = Model([inp for inp,emb in embs] + [inp for inp,d in conts], x)\n",
    "#model.compile('adam', mse)\n",
    "model.compile(loss=sMAPE, optimizer = 'adam')\n",
    "#model.compile('adam', 'mean_absolute_error')\n",
    "#model.compile(Adam(), 'mse')"
   ]
  },
  {
   "cell_type": "markdown",
   "metadata": {},
   "source": [
    "### Start training\n"
   ]
  },
  {
   "cell_type": "code",
   "execution_count": null,
   "metadata": {
    "collapsed": true
   },
   "outputs": [],
   "source": [
    "model.lr=0.001"
   ]
  },
  {
   "cell_type": "code",
   "execution_count": null,
   "metadata": {
    "collapsed": true
   },
   "outputs": [],
   "source": [
    "RunningEpochs()"
   ]
  },
  {
   "cell_type": "code",
   "execution_count": null,
   "metadata": {
    "collapsed": true
   },
   "outputs": [],
   "source": [
    "%%time \n",
    "#Was nb_epoch=25\n",
    "# Batch was 128\n",
    "# 256 for 90 days is 6 mins\n",
    "# 512 in for 90 days was 5 minutes5\n",
    "# 1024 with 180 = 4 mins\n",
    "# 4096 will run in 6 mins\n",
    "hist = model.fit(map_train, y_train, batch_size=1028, nb_epoch=1, verbose=1, validation_data=(map_valid, y_valid))"
   ]
  },
  {
   "cell_type": "code",
   "execution_count": null,
   "metadata": {
    "collapsed": true
   },
   "outputs": [],
   "source": [
    "#model.save_weights(path+'webTraffic128x600.h5',overwrite=True)"
   ]
  },
  {
   "cell_type": "code",
   "execution_count": null,
   "metadata": {
    "collapsed": true
   },
   "outputs": [],
   "source": [
    "#model.history\n",
    "#hist.history"
   ]
  },
  {
   "cell_type": "code",
   "execution_count": null,
   "metadata": {
    "collapsed": true
   },
   "outputs": [],
   "source": [
    "#plot_train(hist)"
   ]
  },
  {
   "cell_type": "code",
   "execution_count": null,
   "metadata": {
    "collapsed": true,
    "scrolled": false
   },
   "outputs": [],
   "source": [
    "# Makes the prediction\n",
    "# Map_valid are the values fed into the machine\n",
    "# preds = np.squeeze(model.predict(map_valid, 64))"
   ]
  },
  {
   "cell_type": "markdown",
   "metadata": {},
   "source": [
    "# Start Predictions"
   ]
  },
  {
   "cell_type": "code",
   "execution_count": null,
   "metadata": {
    "collapsed": true
   },
   "outputs": [],
   "source": [
    "# Was 128\n",
    "validpreds =model.predict(map_valid, 64, verbose=1)\n",
    "listValidpreds=log_max_inv(validpreds,max_log_y)"
   ]
  },
  {
   "cell_type": "code",
   "execution_count": null,
   "metadata": {
    "collapsed": true
   },
   "outputs": [],
   "source": [
    "# Was 128\n",
    "# 256 finishes in a minute\n",
    "# 128 finishes in 2 minutes\n",
    "Futurepreds=model.predict(map_predict, 64, verbose=1)"
   ]
  },
  {
   "cell_type": "code",
   "execution_count": null,
   "metadata": {
    "collapsed": true,
    "scrolled": true
   },
   "outputs": [],
   "source": [
    "#These are the values for submission\n",
    "listFuturepreds=log_max_inv(Futurepreds,max_log_y)"
   ]
  },
  {
   "cell_type": "code",
   "execution_count": null,
   "metadata": {
    "collapsed": true
   },
   "outputs": [],
   "source": [
    "#Real Values\n",
    "plt.plot(joined_valid.Visits, color='g')\n",
    "# Valid set trained\n",
    "plt.plot(listValidpreds, color='black')\n",
    "# Future predictions\n",
    "plt.plot(listFuturepreds, color='b')\n",
    "plt.axhline(y=tables.Visits.mean(), color='r')\n",
    "plt.show()"
   ]
  },
  {
   "cell_type": "code",
   "execution_count": null,
   "metadata": {
    "collapsed": true
   },
   "outputs": [],
   "source": [
    "ymean=y_train_orig.mean()\n",
    "ystd=y_train_orig.std()"
   ]
  },
  {
   "cell_type": "code",
   "execution_count": null,
   "metadata": {
    "collapsed": true
   },
   "outputs": [],
   "source": [
    "len(listValidpreds)"
   ]
  },
  {
   "cell_type": "code",
   "execution_count": null,
   "metadata": {
    "collapsed": true
   },
   "outputs": [],
   "source": [
    "newsubm = joined_predict.assign(Visits=pd.Series(listFuturepreds.flatten().tolist()))\n",
    "sepsubm = joined_valid.assign(Visits=pd.Series(listValidpreds.flatten().tolist()))"
   ]
  },
  {
   "cell_type": "code",
   "execution_count": null,
   "metadata": {
    "collapsed": true
   },
   "outputs": [],
   "source": [
    "display(DataFrameSummary(newsubm).summary())"
   ]
  },
  {
   "cell_type": "code",
   "execution_count": null,
   "metadata": {
    "collapsed": true
   },
   "outputs": [],
   "source": [
    "display(DataFrameSummary(tables).summary())"
   ]
  },
  {
   "cell_type": "code",
   "execution_count": null,
   "metadata": {
    "collapsed": true
   },
   "outputs": [],
   "source": [
    "import random\n",
    "for i in range(5):\n",
    "    testname=joined_train['Page'][random.randint(0, len(joined_train))]\n",
    "    # plt.plot(listValidpreds, color='black') sepsubm\n",
    "    submit1=newsubm.loc[newsubm['Page'] == testname]\n",
    "    submit2=joined_train.loc[joined_train['Page'] == testname]\n",
    "    submit3=joined_valid.loc[joined_valid['Page'] == testname]\n",
    "    submit4=sepsubm.loc[sepsubm['Page'] == testname]\n",
    "    #print(submit3)\n",
    "    #plt.plot(submit1.Visits, color='b')\n",
    "    if (SubmissionRun):#/==False):\n",
    "        # Predicted amounts\n",
    "        plt.plot(submit3.Visits, color='b')\n",
    "        # Valid amounts \n",
    "        plt.plot(submit4.Visits, color='g')\n",
    "    plt.axhline(submit2.Visits.mean(), color='r')\n",
    "    print (testname)\n",
    "    print (len(submit1),len(submit3))\n",
    "    print (submit2.Visits.mean())    \n",
    "    plt.show()"
   ]
  },
  {
   "cell_type": "code",
   "execution_count": null,
   "metadata": {
    "collapsed": true
   },
   "outputs": [],
   "source": [
    "allDone()"
   ]
  },
  {
   "cell_type": "code",
   "execution_count": null,
   "metadata": {
    "collapsed": true
   },
   "outputs": [],
   "source": [
    "newsubm"
   ]
  },
  {
   "cell_type": "markdown",
   "metadata": {},
   "source": [
    "## Submit File\n",
    "For when all the predictions and visits have been guessed."
   ]
  },
  {
   "cell_type": "code",
   "execution_count": null,
   "metadata": {
    "collapsed": true
   },
   "outputs": [],
   "source": [
    "# Subm \n",
    "## ss_id are the ids; Combines page and date\n",
    "## is the predicted visits for the page and date\n",
    "subm2 = pd.DataFrame({'Id': newsubm.Id, 'Visits': newsubm.Visits})"
   ]
  },
  {
   "cell_type": "code",
   "execution_count": null,
   "metadata": {
    "collapsed": true
   },
   "outputs": [],
   "source": [
    "subm2[:5]"
   ]
  },
  {
   "cell_type": "code",
   "execution_count": null,
   "metadata": {
    "collapsed": true
   },
   "outputs": [],
   "source": [
    "# Makes the submission name out of folders\n",
    "numFiles=len(os.listdir(path+'submits/'))\n",
    "subm_name = 'submission'+str(numFiles)+'.csv.gz'\n",
    "submission=subm2"
   ]
  },
  {
   "cell_type": "code",
   "execution_count": null,
   "metadata": {
    "collapsed": true
   },
   "outputs": [],
   "source": [
    "submission.to_csv((path+'submits/'+subm_name), index=False, compression='gzip')"
   ]
  },
  {
   "cell_type": "code",
   "execution_count": null,
   "metadata": {
    "collapsed": true
   },
   "outputs": [],
   "source": [
    "print ('http://localhost:8888/view/data/webTraffic/submits/'+subm_name)"
   ]
  },
  {
   "cell_type": "code",
   "execution_count": null,
   "metadata": {
    "collapsed": true
   },
   "outputs": [],
   "source": []
  }
 ],
 "metadata": {
  "kernelspec": {
   "display_name": "Python [conda root]",
   "language": "python",
   "name": "conda-root-py"
  },
  "language_info": {
   "codemirror_mode": {
    "name": "ipython",
    "version": 3
   },
   "file_extension": ".py",
   "mimetype": "text/x-python",
   "name": "python",
   "nbconvert_exporter": "python",
   "pygments_lexer": "ipython3",
   "version": "3.5.0"
  }
 },
 "nbformat": 4,
 "nbformat_minor": 2
}
